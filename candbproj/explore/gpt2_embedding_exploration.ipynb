{
 "cells": [
  {
   "cell_type": "code",
   "execution_count": 19,
   "metadata": {
    "collapsed": true
   },
   "outputs": [],
   "source": [
    "import pickle\n",
    "\n",
    "import numpy as np\n",
    "import pandas as pd\n",
    "import seaborn as sns\n",
    "import matplotlib.pyplot as plt\n",
    "\n",
    "from candbproj.result import PereiraResultSet\n",
    "from candbproj.score import normalize_scores\n"
   ]
  },
  {
   "cell_type": "code",
   "execution_count": 20,
   "outputs": [],
   "source": [
    "gpt2_embedding_result_path = \"../../results/gpt2_varied_embeddings_result.pkl\""
   ],
   "metadata": {
    "collapsed": false,
    "pycharm": {
     "name": "#%%\n"
    }
   }
  },
  {
   "cell_type": "code",
   "execution_count": 21,
   "outputs": [],
   "source": [
    "with open(gpt2_embedding_result_path, \"rb\") as f:\n",
    "    result_set: PereiraResultSet = pickle.load(f)"
   ],
   "metadata": {
    "collapsed": false,
    "pycharm": {
     "name": "#%%\n"
    }
   }
  },
  {
   "cell_type": "code",
   "execution_count": 22,
   "outputs": [],
   "source": [
    "default_embeddings = []\n",
    "for result in result_set.results:\n",
    "    if result.model_config.n_embd == 768:\n",
    "        default_embeddings.append(result)\n",
    "default_result_set = PereiraResultSet(results=default_embeddings)"
   ],
   "metadata": {
    "collapsed": false,
    "pycharm": {
     "name": "#%%\n"
    }
   }
  },
  {
   "cell_type": "code",
   "execution_count": 23,
   "outputs": [
    {
     "name": "stdout",
     "output_type": "stream",
     "text": [
      "[0.01250893 0.62868095 0.70292237 0.68207785 0.74784419 0.79962811\n",
      " 0.77184379 0.77457143 0.74880598 0.75990812 0.74390587 0.76998049\n",
      " 0.75886324]\n",
      "[0.0431532  0.67235976 0.68690483 0.71553548 0.68652424 0.69909222\n",
      " 0.67449096 0.67806409 0.68653086 0.72649379 0.73687663 0.75531575\n",
      " 0.74235567]\n",
      "[0.01511509 0.70777489 0.69635175 0.66416133 0.68057936 0.76542839\n",
      " 0.77389439 0.79158108 0.7556122  0.7698631  0.77643966 0.74951756\n",
      " 0.7701931 ]\n",
      "[0.04684361 0.64198668 0.73680325 0.73354729 0.75959643 0.76822154\n",
      " 0.74766145 0.75328381 0.76840979 0.74997123 0.74845743 0.76816874\n",
      " 0.77328028]\n",
      "[0.03058651 0.59204981 0.62800831 0.67877993 0.69750203 0.71459203\n",
      " 0.73179552 0.71917723 0.73408499 0.72371899 0.73390807 0.74206464\n",
      " 0.71114395]\n",
      "[-0.00736333  0.63461875  0.70768229  0.70984016  0.73564492  0.71475363\n",
      "  0.7460992   0.76664926  0.77489137  0.78638445  0.77476242  0.77859685\n",
      "  0.79950267]\n",
      "[0.01099992 0.61528091 0.76138749 0.77394972 0.77720792 0.79043621\n",
      " 0.80376651 0.78671146 0.80926932 0.79520395 0.79374105 0.78883585\n",
      " 0.78472354]\n",
      "[-0.00734433  0.5912013   0.67541906  0.70784873  0.76927688  0.73691172\n",
      "  0.76627892  0.70984093  0.72436356  0.75132643  0.74629539  0.77987036\n",
      "  0.78216969]\n",
      "[0.04254638 0.63735129 0.76801873 0.6922611  0.718295   0.81138241\n",
      " 0.74382258 0.73177276 0.73526607 0.7510401  0.76330045 0.73612892\n",
      " 0.76453242]\n",
      "[0.02959749 0.61955508 0.67329874 0.70761875 0.74395059 0.75490303\n",
      " 0.76213518 0.78187785 0.77733018 0.78454934 0.754133   0.75794534\n",
      " 0.77880916]\n"
     ]
    }
   ],
   "source": [
    "# Print the scores as lists\n",
    "for result in default_result_set.results:\n",
    "    print(normalize_scores(result.scores))"
   ],
   "metadata": {
    "collapsed": false,
    "pycharm": {
     "name": "#%%\n"
    }
   }
  },
  {
   "cell_type": "code",
   "execution_count": 24,
   "outputs": [
    {
     "name": "stdout",
     "output_type": "stream",
     "text": [
      "[0.00690155 0.20199883 0.22416909 0.22508732 0.23307702 0.24068846\n",
      " 0.23961933 0.2387191  0.23938919 0.24206181 0.24121316 0.24295268\n",
      " 0.24419985] [3.65235959e-05 1.13342737e-04 1.66094090e-04 8.86673846e-05\n",
      " 1.08495571e-04 1.36116800e-04 1.05499522e-04 1.32440515e-04\n",
      " 1.05401590e-04 5.40939335e-05 3.43841024e-05 2.73628099e-05\n",
      " 5.67030524e-05]\n"
     ]
    }
   ],
   "source": [
    "# Perform some basic statistics on the scores\n",
    "\n",
    "np_scores = []\n",
    "for result in default_result_set.results:\n",
    "    # Extract scores\n",
    "    np_scores.append(result.scores)\n",
    "\n",
    "np_scores = np.array(np_scores)\n",
    "mean_scores = np.mean(np_scores, axis=0)\n",
    "variation_scores = np.var(np_scores, axis=0)\n",
    "print(mean_scores, variation_scores)"
   ],
   "metadata": {
    "collapsed": false,
    "pycharm": {
     "name": "#%%\n"
    }
   }
  },
  {
   "cell_type": "code",
   "execution_count": 25,
   "outputs": [
    {
     "name": "stdout",
     "output_type": "stream",
     "text": [
      "[0.02166435 0.63408594 0.70367968 0.70656203 0.73164216 0.75553493\n",
      " 0.75217885 0.74935299 0.75145643 0.75984595 0.757182   0.76264245\n",
      " 0.76655737] [1.14649668e-04 3.55789372e-04 5.21378902e-04 2.78332020e-04\n",
      " 3.40573837e-04 4.27278464e-04 3.31169067e-04 4.15738394e-04\n",
      " 3.30861655e-04 1.69803969e-04 1.07933675e-04 8.58934341e-05\n",
      " 1.77994143e-04]\n"
     ]
    }
   ],
   "source": [
    "# Normalize the scores\n",
    "mean_scores_normalized = normalize_scores(mean_scores)\n",
    "variation_scores_normalized = normalize_scores(variation_scores)\n",
    "\n",
    "print(mean_scores_normalized, variation_scores_normalized)"
   ],
   "metadata": {
    "collapsed": false,
    "pycharm": {
     "name": "#%%\n"
    }
   }
  },
  {
   "cell_type": "code",
   "execution_count": 26,
   "outputs": [],
   "source": [
    "# Perform similar computations for the rest of the levels of embeddings\n",
    "embedding_scores = {}\n",
    "for result in result_set.results:\n",
    "\n",
    "    r = embedding_scores.setdefault(result.model_config.n_embd, [])\n",
    "    r.append(result.scores)\n"
   ],
   "metadata": {
    "collapsed": false,
    "pycharm": {
     "name": "#%%\n"
    }
   }
  },
  {
   "cell_type": "code",
   "execution_count": 27,
   "outputs": [
    {
     "name": "stdout",
     "output_type": "stream",
     "text": [
      "(13,) (13,)\n",
      "(13,) (13,)\n",
      "(13,) (13,)\n",
      "(13,) (13,)\n",
      "(13,) (13,)\n",
      "(13,) (13,)\n",
      "(13,) (13,)\n"
     ]
    }
   ],
   "source": [
    "\n",
    "\n",
    "normalized_embedding_scores = {}\n",
    "for n_embd, unnormalized_scores in embedding_scores.items():\n",
    "    mean_scores = np.mean(unnormalized_scores, axis=0)\n",
    "    variation_scores = np.var(unnormalized_scores, axis=0)\n",
    "\n",
    "    mean_scores_normalized = normalize_scores(mean_scores)\n",
    "    variation_scores_normalized = normalize_scores(variation_scores)\n",
    "\n",
    "    normalized_embedding_scores[n_embd] = (mean_scores_normalized, variation_scores_normalized)\n",
    "\n",
    "    print(mean_scores.shape, variation_scores.shape)\n",
    "\n",
    "# print(normalized_embedding_scores)"
   ],
   "metadata": {
    "collapsed": false,
    "pycharm": {
     "name": "#%%\n"
    }
   }
  },
  {
   "cell_type": "code",
   "execution_count": 28,
   "outputs": [
    {
     "name": "stdout",
     "output_type": "stream",
     "text": [
      "{12: [0.029566775238946776, 0.0006676043933494766], 24: [0.04546511044901454, 0.0004471464686887747], 36: [0.06498701499081908, 0.0003662766224786622], 60: [0.12530367418332747, 0.0003196865397599043], 120: [0.41233117616019516, 0.0005286011350344211], 768: [0.7665573719942028, 0.00017799414301928392], 1200: [0.8709851605107997, 0.0003335263901376054]}\n"
     ]
    }
   ],
   "source": [
    "# Lets just look at the last layer's normalized scores\n",
    "final_results = {}\n",
    "for embeddings, result_pair in normalized_embedding_scores.items():\n",
    "    final_results[embeddings] = [result_pair[0][-1], result_pair[1][-1]]\n",
    "print(final_results)"
   ],
   "metadata": {
    "collapsed": false,
    "pycharm": {
     "name": "#%%\n"
    }
   }
  },
  {
   "cell_type": "code",
   "execution_count": 38,
   "outputs": [],
   "source": [
    "# Convert to a dataframe and plot\n",
    "\n",
    "df = pd.DataFrame.from_dict(final_results, orient=\"index\", columns=[\"normalized_score\", \"variance\"])\n",
    "df = df.reset_index()\n",
    "df = df.rename({\"index\": \"embeddings\"}, axis=\"columns\")\n"
   ],
   "metadata": {
    "collapsed": false,
    "pycharm": {
     "name": "#%%\n"
    }
   }
  },
  {
   "cell_type": "code",
   "execution_count": 39,
   "outputs": [
    {
     "data": {
      "text/plain": "<AxesSubplot:title={'center':'Normalized scores by embeddings'}, xlabel='embeddings', ylabel='normalized_score'>"
     },
     "execution_count": 39,
     "metadata": {},
     "output_type": "execute_result"
    },
    {
     "data": {
      "text/plain": "<Figure size 576x432 with 1 Axes>",
      "image/png": "[encoded data removed]"
     },
     "metadata": {
      "needs_background": "light"
     },
     "output_type": "display_data"
    }
   ],
   "source": [
    "figure, axis = plt.subplots(1,1,figsize=(8,6))\n",
    "axis.set_xscale(\"log\")\n",
    "axis.set_title(\"Normalized scores by embeddings\")\n",
    "sns.scatterplot(x=df[\"embeddings\"], y=df[\"normalized_score\"], ax=axis)"
   ],
   "metadata": {
    "collapsed": false,
    "pycharm": {
     "name": "#%%\n"
    }
   }
  }
 ],
 "metadata": {
  "kernelspec": {
   "display_name": "Python 3",
   "language": "python",
   "name": "python3"
  },
  "language_info": {
   "codemirror_mode": {
    "name": "ipython",
    "version": 2
   },
   "file_extension": ".py",
   "mimetype": "text/x-python",
   "name": "python",
   "nbconvert_exporter": "python",
   "pygments_lexer": "ipython2",
   "version": "2.7.6"
  }
 },
 "nbformat": 4,
 "nbformat_minor": 0
}