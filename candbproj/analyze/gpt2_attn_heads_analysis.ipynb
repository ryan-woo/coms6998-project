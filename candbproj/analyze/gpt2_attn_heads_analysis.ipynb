{
 "cells": [
  {
   "cell_type": "code",
   "execution_count": 18,
   "metadata": {
    "collapsed": true
   },
   "outputs": [],
   "source": [
    "import pickle\n",
    "\n",
    "import numpy as np\n",
    "import pandas as pd\n",
    "import seaborn as sns\n",
    "import matplotlib.pyplot as plt\n",
    "\n",
    "from candbproj.result import PereiraResultSet\n",
    "from candbproj.score import normalize_scores\n"
   ]
  },
  {
   "cell_type": "code",
   "execution_count": 19,
   "outputs": [],
   "source": [
    "gpt2_embedding_result_path = \"../../results/gpt2_varied_attn_heads_result.pkl\""
   ],
   "metadata": {
    "collapsed": false,
    "pycharm": {
     "name": "#%%\n"
    }
   }
  },
  {
   "cell_type": "code",
   "execution_count": 20,
   "outputs": [],
   "source": [
    "with open(gpt2_embedding_result_path, \"rb\") as f:\n",
    "    result_set: PereiraResultSet = pickle.load(f)"
   ],
   "metadata": {
    "collapsed": false,
    "pycharm": {
     "name": "#%%\n"
    }
   }
  },
  {
   "cell_type": "code",
   "execution_count": 21,
   "outputs": [],
   "source": [
    "attn_head_scores = {}\n",
    "for result in result_set.results:\n",
    "\n",
    "    r = attn_head_scores.setdefault(result.model_config.n_head, [])\n",
    "    r.append(result.scores)\n"
   ],
   "metadata": {
    "collapsed": false,
    "pycharm": {
     "name": "#%%\n"
    }
   }
  },
  {
   "cell_type": "code",
   "execution_count": 22,
   "outputs": [
    {
     "name": "stdout",
     "output_type": "stream",
     "text": [
      "(13,) (13,)\n",
      "(13,) (13,)\n",
      "(13,) (13,)\n",
      "(13,) (13,)\n",
      "(13,) (13,)\n",
      "(13,) (13,)\n",
      "(13,) (13,)\n"
     ]
    }
   ],
   "source": [
    "normalized_attn_head_scores = {}\n",
    "for n_head, unnormalized_scores in attn_head_scores.items():\n",
    "    mean_scores = np.mean(unnormalized_scores, axis=0)\n",
    "    variation_scores = np.var(unnormalized_scores, axis=0)\n",
    "\n",
    "    mean_scores_normalized = normalize_scores(mean_scores)\n",
    "    variation_scores_normalized = normalize_scores(variation_scores)\n",
    "\n",
    "    normalized_attn_head_scores[n_head] = (mean_scores_normalized, variation_scores_normalized)\n",
    "\n",
    "    print(mean_scores.shape, variation_scores.shape)\n"
   ],
   "metadata": {
    "collapsed": false,
    "pycharm": {
     "name": "#%%\n"
    }
   }
  },
  {
   "cell_type": "code",
   "execution_count": 23,
   "outputs": [
    {
     "name": "stdout",
     "output_type": "stream",
     "text": [
      "{1: [0.7701175808187256, 0.0002605741569746844], 2: [0.7633502786360221, 0.0005047770273762803], 4: [0.7626568150400527, 0.00015820034693760963], 8: [0.7660800688038214, 8.59181074526742e-05], 12: [0.7665573719942028, 0.00017799414301928392], 16: [0.7748401693840262, 0.0004285150782086897], 32: [0.7702835272901751, 0.00032793568973067737]}\n"
     ]
    }
   ],
   "source": [
    "# Lets just look at the last layer's normalized scores\n",
    "final_results = {}\n",
    "for embeddings, result_pair in normalized_attn_head_scores.items():\n",
    "    final_results[embeddings] = [result_pair[0][-1], result_pair[1][-1]]\n",
    "print(final_results)"
   ],
   "metadata": {
    "collapsed": false,
    "pycharm": {
     "name": "#%%\n"
    }
   }
  },
  {
   "cell_type": "code",
   "execution_count": 27,
   "outputs": [
    {
     "data": {
      "text/plain": "   n_head      mean  variance\n0       1  0.770118  0.000261\n1       2  0.763350  0.000505\n2       4  0.762657  0.000158\n3       8  0.766080  0.000086\n4      12  0.766557  0.000178\n5      16  0.774840  0.000429\n6      32  0.770284  0.000328",
      "text/html": "<div>\n<style scoped>\n    .dataframe tbody tr th:only-of-type {\n        vertical-align: middle;\n    }\n\n    .dataframe tbody tr th {\n        vertical-align: top;\n    }\n\n    .dataframe thead th {\n        text-align: right;\n    }\n</style>\n<table border=\"1\" class=\"dataframe\">\n  <thead>\n    <tr style=\"text-align: right;\">\n      <th></th>\n      <th>n_head</th>\n      <th>mean</th>\n      <th>variance</th>\n    </tr>\n  </thead>\n  <tbody>\n    <tr>\n      <th>0</th>\n      <td>1</td>\n      <td>0.770118</td>\n      <td>0.000261</td>\n    </tr>\n    <tr>\n      <th>1</th>\n      <td>2</td>\n      <td>0.763350</td>\n      <td>0.000505</td>\n    </tr>\n    <tr>\n      <th>2</th>\n      <td>4</td>\n      <td>0.762657</td>\n      <td>0.000158</td>\n    </tr>\n    <tr>\n      <th>3</th>\n      <td>8</td>\n      <td>0.766080</td>\n      <td>0.000086</td>\n    </tr>\n    <tr>\n      <th>4</th>\n      <td>12</td>\n      <td>0.766557</td>\n      <td>0.000178</td>\n    </tr>\n    <tr>\n      <th>5</th>\n      <td>16</td>\n      <td>0.774840</td>\n      <td>0.000429</td>\n    </tr>\n    <tr>\n      <th>6</th>\n      <td>32</td>\n      <td>0.770284</td>\n      <td>0.000328</td>\n    </tr>\n  </tbody>\n</table>\n</div>"
     },
     "execution_count": 27,
     "metadata": {},
     "output_type": "execute_result"
    }
   ],
   "source": [
    "# Convert to a dataframe and plot\n",
    "\n",
    "df = pd.DataFrame.from_dict(final_results, orient=\"index\", columns=[\"normalized_score\", \"variance\"])\n",
    "df = df.reset_index()\n",
    "df = df.rename({\"index\": \"n_head\"}, axis=\"columns\")\n",
    "df"
   ],
   "metadata": {
    "collapsed": false,
    "pycharm": {
     "name": "#%%\n"
    }
   }
  },
  {
   "cell_type": "code",
   "execution_count": 26,
   "outputs": [
    {
     "data": {
      "text/plain": "<AxesSubplot:title={'center':'Normalized scores by embeddings'}, xlabel='n_head', ylabel='mean'>"
     },
     "execution_count": 26,
     "metadata": {},
     "output_type": "execute_result"
    },
    {
     "data": {
      "text/plain": "<Figure size 576x432 with 1 Axes>",
      "image/png": "[encoded data removed]"
     },
     "metadata": {
      "needs_background": "light"
     },
     "output_type": "display_data"
    }
   ],
   "source": [
    "figure, axis = plt.subplots(1,1,figsize=(8,6))\n",
    "# axis.set_xscale(\"log\")\n",
    "axis.set_title(\"Normalized scores by number of heads\")\n",
    "sns.scatterplot(x=df[\"n_head\"], y=df[\"normalized_score\"], ax=axis)"
   ],
   "metadata": {
    "collapsed": false,
    "pycharm": {
     "name": "#%%\n"
    }
   }
  }
 ],
 "metadata": {
  "kernelspec": {
   "display_name": "Python 3",
   "language": "python",
   "name": "python3"
  },
  "language_info": {
   "codemirror_mode": {
    "name": "ipython",
    "version": 2
   },
   "file_extension": ".py",
   "mimetype": "text/x-python",
   "name": "python",
   "nbconvert_exporter": "python",
   "pygments_lexer": "ipython2",
   "version": "2.7.6"
  }
 },
 "nbformat": 4,
 "nbformat_minor": 0
}