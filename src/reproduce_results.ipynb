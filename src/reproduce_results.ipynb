{
 "cells": [
  {
   "cell_type": "code",
   "execution_count": 9,
   "id": "2164b9df",
   "metadata": {
    "scrolled": true
   },
   "outputs": [
    {
     "data": {
      "text/plain": "<xarray.NeuroidAssembly (presentation: 627, neuroid: 103900)>\narray([[-0.61048431, -0.76491186, -0.79946189, ..., -1.05059589,\n        -0.87116667, -1.60948908],\n       [ 1.74291344,  2.00353428,  1.97103177, ...,  1.68688988,\n         1.4843575 ,  1.88385042],\n       [-0.57701107, -0.24646438, -0.28553028, ...,  0.12177334,\n        -0.87131264, -1.22506831],\n       ...,\n       [ 0.4911479 ,  0.97394189,  0.14704561, ...,  2.23514024,\n         1.51163703,  0.58961535],\n       [ 1.0331004 ,  1.5348565 ,  0.84328902, ...,  4.25791121,\n         2.44102726,  3.44806095],\n       [ 0.53970481,  0.98636439,  0.53409886, ...,  7.50497969,\n         2.68749469,  4.16021721]])\nCoordinates:\n  * presentation      (presentation) MultiIndex\n  - stimulus_num      (presentation) int64 0 0 1 1 2 2 ... 379 380 381 382 383\n  - passage_index     (presentation) int64 1 1 1 1 1 1 1 ... 95 95 96 96 96 96\n  - passage_label     (presentation) object 'Accordion' 'beekeeping' ... 'Woman'\n  - passage_category  (presentation) object 'music' 'beekeeping' ... 'human'\n  - stimulus_id       (presentation) object '384sentences.0' ... '384sentence...\n  - story             (presentation) object '384sentences.music' ... '384sent...\n  - experiment        (presentation) object '384sentences' ... '384sentences'\n  * neuroid           (neuroid) MultiIndex\n  - subject           (neuroid) object '018' '018' '018' ... '426' '426' '426'\n  - voxel_num         (neuroid) int64 28 29 31 32 38 ... 32539 32540 32607 32611\n  - atlas             (neuroid) object 'language' 'language' ... 'MD' 'MD'\n  - filter_strategy   (neuroid) object '' '' '' ... 'HminusE' 'HminusE'\n  - atlas_selection   (neuroid) object 'from90to100prcnt' ... 'from90to100prcnt'\n  - roi               (neuroid) object 'LH_AntTemp' ... 'LH_supFrontal'\n  - indices_in_3d     (neuroid) int64 72505 72506 72584 ... 454542 461888 461967\n  - col_to_coord_1    (neuroid) int64 62 63 62 63 63 63 63 ... 54 55 54 55 54 54\n  - col_to_coord_2    (neuroid) int64 63 63 64 64 65 66 63 ... 53 53 54 54 52 53\n  - col_to_coord_3    (neuroid) int64 10 10 10 10 10 10 11 ... 61 61 61 61 62 62\n  - neuroid_id        (neuroid) object '018.28' '018.29' ... '426.32611'\nAttributes:\n    version:            base\n    stimulus_set:                                                     sentenc...\n    class_module:       brainio_base.assemblies\n    class_name:         NeuroidAssembly\n    stimulus_set_name:  Pereira2018",
      "text/html": "<div><svg style=\"position: absolute; width: 0; height: 0; overflow: hidden\">\n<defs>\n<symbol id=\"icon-database\" viewBox=\"0 0 32 32\">\n<path d=\"M16 0c-8.837 0-16 2.239-16 5v4c0 2.761 7.163 5 16 5s16-2.239 16-5v-4c0-2.761-7.163-5-16-5z\"></path>\n<path d=\"M16 17c-8.837 0-16-2.239-16-5v6c0 2.761 7.163 5 16 5s16-2.239 16-5v-6c0 2.761-7.163 5-16 5z\"></path>\n<path d=\"M16 26c-8.837 0-16-2.239-16-5v6c0 2.761 7.163 5 16 5s16-2.239 16-5v-6c0 2.761-7.163 5-16 5z\"></path>\n</symbol>\n<symbol id=\"icon-file-text2\" viewBox=\"0 0 32 32\">\n<path d=\"M28.681 7.159c-0.694-0.947-1.662-2.053-2.724-3.116s-2.169-2.030-3.116-2.724c-1.612-1.182-2.393-1.319-2.841-1.319h-15.5c-1.378 0-2.5 1.121-2.5 2.5v27c0 1.378 1.122 2.5 2.5 2.5h23c1.378 0 2.5-1.122 2.5-2.5v-19.5c0-0.448-0.137-1.23-1.319-2.841zM24.543 5.457c0.959 0.959 1.712 1.825 2.268 2.543h-4.811v-4.811c0.718 0.556 1.584 1.309 2.543 2.268zM28 29.5c0 0.271-0.229 0.5-0.5 0.5h-23c-0.271 0-0.5-0.229-0.5-0.5v-27c0-0.271 0.229-0.5 0.5-0.5 0 0 15.499-0 15.5 0v7c0 0.552 0.448 1 1 1h7v19.5z\"></path>\n<path d=\"M23 26h-14c-0.552 0-1-0.448-1-1s0.448-1 1-1h14c0.552 0 1 0.448 1 1s-0.448 1-1 1z\"></path>\n<path d=\"M23 22h-14c-0.552 0-1-0.448-1-1s0.448-1 1-1h14c0.552 0 1 0.448 1 1s-0.448 1-1 1z\"></path>\n<path d=\"M23 18h-14c-0.552 0-1-0.448-1-1s0.448-1 1-1h14c0.552 0 1 0.448 1 1s-0.448 1-1 1z\"></path>\n</symbol>\n</defs>\n</svg>\n<style>/* CSS stylesheet for displaying xarray objects in jupyterlab.\n *\n */\n\n:root {\n  --xr-font-color0: var(--jp-content-font-color0, rgba(0, 0, 0, 1));\n  --xr-font-color2: var(--jp-content-font-color2, rgba(0, 0, 0, 0.54));\n  --xr-font-color3: var(--jp-content-font-color3, rgba(0, 0, 0, 0.38));\n  --xr-border-color: var(--jp-border-color2, #e0e0e0);\n  --xr-disabled-color: var(--jp-layout-color3, #bdbdbd);\n  --xr-background-color: var(--jp-layout-color0, white);\n  --xr-background-color-row-even: var(--jp-layout-color1, white);\n  --xr-background-color-row-odd: var(--jp-layout-color2, #eeeeee);\n}\n\nhtml[theme=dark],\nbody.vscode-dark {\n  --xr-font-color0: rgba(255, 255, 255, 1);\n  --xr-font-color2: rgba(255, 255, 255, 0.54);\n  --xr-font-color3: rgba(255, 255, 255, 0.38);\n  --xr-border-color: #1F1F1F;\n  --xr-disabled-color: #515151;\n  --xr-background-color: #111111;\n  --xr-background-color-row-even: #111111;\n  --xr-background-color-row-odd: #313131;\n}\n\n.xr-wrap {\n  display: block;\n  min-width: 300px;\n  max-width: 700px;\n}\n\n.xr-text-repr-fallback {\n  /* fallback to plain text repr when CSS is not injected (untrusted notebook) */\n  display: none;\n}\n\n.xr-header {\n  padding-top: 6px;\n  padding-bottom: 6px;\n  margin-bottom: 4px;\n  border-bottom: solid 1px var(--xr-border-color);\n}\n\n.xr-header > div,\n.xr-header > ul {\n  display: inline;\n  margin-top: 0;\n  margin-bottom: 0;\n}\n\n.xr-obj-type,\n.xr-array-name {\n  margin-left: 2px;\n  margin-right: 10px;\n}\n\n.xr-obj-type {\n  color: var(--xr-font-color2);\n}\n\n.xr-sections {\n  padding-left: 0 !important;\n  display: grid;\n  grid-template-columns: 150px auto auto 1fr 20px 20px;\n}\n\n.xr-section-item {\n  display: contents;\n}\n\n.xr-section-item input {\n  display: none;\n}\n\n.xr-section-item input + label {\n  color: var(--xr-disabled-color);\n}\n\n.xr-section-item input:enabled + label {\n  cursor: pointer;\n  color: var(--xr-font-color2);\n}\n\n.xr-section-item input:enabled + label:hover {\n  color: var(--xr-font-color0);\n}\n\n.xr-section-summary {\n  grid-column: 1;\n  color: var(--xr-font-color2);\n  font-weight: 500;\n}\n\n.xr-section-summary > span {\n  display: inline-block;\n  padding-left: 0.5em;\n}\n\n.xr-section-summary-in:disabled + label {\n  color: var(--xr-font-color2);\n}\n\n.xr-section-summary-in + label:before {\n  display: inline-block;\n  content: '►';\n  font-size: 11px;\n  width: 15px;\n  text-align: center;\n}\n\n.xr-section-summary-in:disabled + label:before {\n  color: var(--xr-disabled-color);\n}\n\n.xr-section-summary-in:checked + label:before {\n  content: '▼';\n}\n\n.xr-section-summary-in:checked + label > span {\n  display: none;\n}\n\n.xr-section-summary,\n.xr-section-inline-details {\n  padding-top: 4px;\n  padding-bottom: 4px;\n}\n\n.xr-section-inline-details {\n  grid-column: 2 / -1;\n}\n\n.xr-section-details {\n  display: none;\n  grid-column: 1 / -1;\n  margin-bottom: 5px;\n}\n\n.xr-section-summary-in:checked ~ .xr-section-details {\n  display: contents;\n}\n\n.xr-array-wrap {\n  grid-column: 1 / -1;\n  display: grid;\n  grid-template-columns: 20px auto;\n}\n\n.xr-array-wrap > label {\n  grid-column: 1;\n  vertical-align: top;\n}\n\n.xr-preview {\n  color: var(--xr-font-color3);\n}\n\n.xr-array-preview,\n.xr-array-data {\n  padding: 0 5px !important;\n  grid-column: 2;\n}\n\n.xr-array-data,\n.xr-array-in:checked ~ .xr-array-preview {\n  display: none;\n}\n\n.xr-array-in:checked ~ .xr-array-data,\n.xr-array-preview {\n  display: inline-block;\n}\n\n.xr-dim-list {\n  display: inline-block !important;\n  list-style: none;\n  padding: 0 !important;\n  margin: 0;\n}\n\n.xr-dim-list li {\n  display: inline-block;\n  padding: 0;\n  margin: 0;\n}\n\n.xr-dim-list:before {\n  content: '(';\n}\n\n.xr-dim-list:after {\n  content: ')';\n}\n\n.xr-dim-list li:not(:last-child):after {\n  content: ',';\n  padding-right: 5px;\n}\n\n.xr-has-index {\n  font-weight: bold;\n}\n\n.xr-var-list,\n.xr-var-item {\n  display: contents;\n}\n\n.xr-var-item > div,\n.xr-var-item label,\n.xr-var-item > .xr-var-name span {\n  background-color: var(--xr-background-color-row-even);\n  margin-bottom: 0;\n}\n\n.xr-var-item > .xr-var-name:hover span {\n  padding-right: 5px;\n}\n\n.xr-var-list > li:nth-child(odd) > div,\n.xr-var-list > li:nth-child(odd) > label,\n.xr-var-list > li:nth-child(odd) > .xr-var-name span {\n  background-color: var(--xr-background-color-row-odd);\n}\n\n.xr-var-name {\n  grid-column: 1;\n}\n\n.xr-var-dims {\n  grid-column: 2;\n}\n\n.xr-var-dtype {\n  grid-column: 3;\n  text-align: right;\n  color: var(--xr-font-color2);\n}\n\n.xr-var-preview {\n  grid-column: 4;\n}\n\n.xr-var-name,\n.xr-var-dims,\n.xr-var-dtype,\n.xr-preview,\n.xr-attrs dt {\n  white-space: nowrap;\n  overflow: hidden;\n  text-overflow: ellipsis;\n  padding-right: 10px;\n}\n\n.xr-var-name:hover,\n.xr-var-dims:hover,\n.xr-var-dtype:hover,\n.xr-attrs dt:hover {\n  overflow: visible;\n  width: auto;\n  z-index: 1;\n}\n\n.xr-var-attrs,\n.xr-var-data {\n  display: none;\n  background-color: var(--xr-background-color) !important;\n  padding-bottom: 5px !important;\n}\n\n.xr-var-attrs-in:checked ~ .xr-var-attrs,\n.xr-var-data-in:checked ~ .xr-var-data {\n  display: block;\n}\n\n.xr-var-data > table {\n  float: right;\n}\n\n.xr-var-name span,\n.xr-var-data,\n.xr-attrs {\n  padding-left: 25px !important;\n}\n\n.xr-attrs,\n.xr-var-attrs,\n.xr-var-data {\n  grid-column: 1 / -1;\n}\n\ndl.xr-attrs {\n  padding: 0;\n  margin: 0;\n  display: grid;\n  grid-template-columns: 125px auto;\n}\n\n.xr-attrs dt,\n.xr-attrs dd {\n  padding: 0;\n  margin: 0;\n  float: left;\n  padding-right: 10px;\n  width: auto;\n}\n\n.xr-attrs dt {\n  font-weight: normal;\n  grid-column: 1;\n}\n\n.xr-attrs dt:hover span {\n  display: inline-block;\n  background: var(--xr-background-color);\n  padding-right: 10px;\n}\n\n.xr-attrs dd {\n  grid-column: 2;\n  white-space: pre-wrap;\n  word-break: break-all;\n}\n\n.xr-icon-database,\n.xr-icon-file-text2 {\n  display: inline-block;\n  vertical-align: middle;\n  width: 1em;\n  height: 1.5em !important;\n  stroke-width: 0;\n  stroke: currentColor;\n  fill: currentColor;\n}\n</style><pre class='xr-text-repr-fallback'>&lt;xarray.NeuroidAssembly (presentation: 627, neuroid: 103900)&gt;\narray([[-0.61048431, -0.76491186, -0.79946189, ..., -1.05059589,\n        -0.87116667, -1.60948908],\n       [ 1.74291344,  2.00353428,  1.97103177, ...,  1.68688988,\n         1.4843575 ,  1.88385042],\n       [-0.57701107, -0.24646438, -0.28553028, ...,  0.12177334,\n        -0.87131264, -1.22506831],\n       ...,\n       [ 0.4911479 ,  0.97394189,  0.14704561, ...,  2.23514024,\n         1.51163703,  0.58961535],\n       [ 1.0331004 ,  1.5348565 ,  0.84328902, ...,  4.25791121,\n         2.44102726,  3.44806095],\n       [ 0.53970481,  0.98636439,  0.53409886, ...,  7.50497969,\n         2.68749469,  4.16021721]])\nCoordinates:\n  * presentation      (presentation) MultiIndex\n  - stimulus_num      (presentation) int64 0 0 1 1 2 2 ... 379 380 381 382 383\n  - passage_index     (presentation) int64 1 1 1 1 1 1 1 ... 95 95 96 96 96 96\n  - passage_label     (presentation) object &#x27;Accordion&#x27; &#x27;beekeeping&#x27; ... &#x27;Woman&#x27;\n  - passage_category  (presentation) object &#x27;music&#x27; &#x27;beekeeping&#x27; ... &#x27;human&#x27;\n  - stimulus_id       (presentation) object &#x27;384sentences.0&#x27; ... &#x27;384sentence...\n  - story             (presentation) object &#x27;384sentences.music&#x27; ... &#x27;384sent...\n  - experiment        (presentation) object &#x27;384sentences&#x27; ... &#x27;384sentences&#x27;\n  * neuroid           (neuroid) MultiIndex\n  - subject           (neuroid) object &#x27;018&#x27; &#x27;018&#x27; &#x27;018&#x27; ... &#x27;426&#x27; &#x27;426&#x27; &#x27;426&#x27;\n  - voxel_num         (neuroid) int64 28 29 31 32 38 ... 32539 32540 32607 32611\n  - atlas             (neuroid) object &#x27;language&#x27; &#x27;language&#x27; ... &#x27;MD&#x27; &#x27;MD&#x27;\n  - filter_strategy   (neuroid) object &#x27;&#x27; &#x27;&#x27; &#x27;&#x27; ... &#x27;HminusE&#x27; &#x27;HminusE&#x27;\n  - atlas_selection   (neuroid) object &#x27;from90to100prcnt&#x27; ... &#x27;from90to100prcnt&#x27;\n  - roi               (neuroid) object &#x27;LH_AntTemp&#x27; ... &#x27;LH_supFrontal&#x27;\n  - indices_in_3d     (neuroid) int64 72505 72506 72584 ... 454542 461888 461967\n  - col_to_coord_1    (neuroid) int64 62 63 62 63 63 63 63 ... 54 55 54 55 54 54\n  - col_to_coord_2    (neuroid) int64 63 63 64 64 65 66 63 ... 53 53 54 54 52 53\n  - col_to_coord_3    (neuroid) int64 10 10 10 10 10 10 11 ... 61 61 61 61 62 62\n  - neuroid_id        (neuroid) object &#x27;018.28&#x27; &#x27;018.29&#x27; ... &#x27;426.32611&#x27;\nAttributes:\n    version:            base\n    stimulus_set:                                                     sentenc...\n    class_module:       brainio_base.assemblies\n    class_name:         NeuroidAssembly\n    stimulus_set_name:  Pereira2018</pre><div class='xr-wrap' hidden><div class='xr-header'><div class='xr-obj-type'>xarray.NeuroidAssembly</div><div class='xr-array-name'></div><ul class='xr-dim-list'><li><span class='xr-has-index'>presentation</span>: 627</li><li><span class='xr-has-index'>neuroid</span>: 103900</li></ul></div><ul class='xr-sections'><li class='xr-section-item'><div class='xr-array-wrap'><input id='section-f8057086-73e5-4935-9323-c88962b0f355' class='xr-array-in' type='checkbox' checked><label for='section-f8057086-73e5-4935-9323-c88962b0f355' title='Show/hide data repr'><svg class='icon xr-icon-database'><use xlink:href='#icon-database'></use></svg></label><div class='xr-array-preview xr-preview'><span>-0.6105 -0.7649 -0.7995 -1.1 -0.5129 ... 3.137 9.596 7.505 2.687 4.16</span></div><div class='xr-array-data'><pre>array([[-0.61048431, -0.76491186, -0.79946189, ..., -1.05059589,\n        -0.87116667, -1.60948908],\n       [ 1.74291344,  2.00353428,  1.97103177, ...,  1.68688988,\n         1.4843575 ,  1.88385042],\n       [-0.57701107, -0.24646438, -0.28553028, ...,  0.12177334,\n        -0.87131264, -1.22506831],\n       ...,\n       [ 0.4911479 ,  0.97394189,  0.14704561, ...,  2.23514024,\n         1.51163703,  0.58961535],\n       [ 1.0331004 ,  1.5348565 ,  0.84328902, ...,  4.25791121,\n         2.44102726,  3.44806095],\n       [ 0.53970481,  0.98636439,  0.53409886, ...,  7.50497969,\n         2.68749469,  4.16021721]])</pre></div></div></li><li class='xr-section-item'><input id='section-33aec562-c747-47d5-8a49-691e9a431826' class='xr-section-summary-in' type='checkbox'  checked><label for='section-33aec562-c747-47d5-8a49-691e9a431826' class='xr-section-summary' >Coordinates: <span>(2)</span></label><div class='xr-section-inline-details'></div><div class='xr-section-details'><ul class='xr-var-list'><li class='xr-var-item'><div class='xr-var-name'><span class='xr-has-index'>presentation</span></div><div class='xr-var-dims'>(presentation)</div><div class='xr-var-dtype'>MultiIndex</div><div class='xr-var-preview xr-preview'>(stimulus_num, passage_index, passage_label, passage_category, stimulus_id, story, experiment)</div><input id='attrs-be88bba7-5c54-4037-9784-b9366049ebbf' class='xr-var-attrs-in' type='checkbox' disabled><label for='attrs-be88bba7-5c54-4037-9784-b9366049ebbf' title='Show/Hide attributes'><svg class='icon xr-icon-file-text2'><use xlink:href='#icon-file-text2'></use></svg></label><input id='data-e5640f8d-5b41-4560-b734-0ae04228ba5f' class='xr-var-data-in' type='checkbox'><label for='data-e5640f8d-5b41-4560-b734-0ae04228ba5f' title='Show/Hide data repr'><svg class='icon xr-icon-database'><use xlink:href='#icon-database'></use></svg></label><div class='xr-var-attrs'><dl class='xr-attrs'></dl></div><div class='xr-var-data'><pre>array([(0, 1, &#x27;Accordion&#x27;, &#x27;music&#x27;, &#x27;384sentences.0&#x27;, &#x27;384sentences.music&#x27;, &#x27;384sentences&#x27;),\n       (0, 1, &#x27;beekeeping&#x27;, &#x27;beekeeping&#x27;, &#x27;243sentences.0&#x27;, &#x27;243sentences.beekeeping&#x27;, &#x27;243sentences&#x27;),\n       (1, 1, &#x27;Accordion&#x27;, &#x27;music&#x27;, &#x27;384sentences.1&#x27;, &#x27;384sentences.music&#x27;, &#x27;384sentences&#x27;),\n       ...,\n       (381, 96, &#x27;Woman&#x27;, &#x27;human&#x27;, &#x27;384sentences.381&#x27;, &#x27;384sentences.human&#x27;, &#x27;384sentences&#x27;),\n       (382, 96, &#x27;Woman&#x27;, &#x27;human&#x27;, &#x27;384sentences.382&#x27;, &#x27;384sentences.human&#x27;, &#x27;384sentences&#x27;),\n       (383, 96, &#x27;Woman&#x27;, &#x27;human&#x27;, &#x27;384sentences.383&#x27;, &#x27;384sentences.human&#x27;, &#x27;384sentences&#x27;)],\n      dtype=object)</pre></div></li><li class='xr-var-item'><div class='xr-var-name'><span>stimulus_num</span></div><div class='xr-var-dims'>(presentation)</div><div class='xr-var-dtype'>int64</div><div class='xr-var-preview xr-preview'>0 0 1 1 2 2 ... 379 380 381 382 383</div><input id='attrs-9f0bad38-5655-48ff-b634-3213dba62974' class='xr-var-attrs-in' type='checkbox' disabled><label for='attrs-9f0bad38-5655-48ff-b634-3213dba62974' title='Show/Hide attributes'><svg class='icon xr-icon-file-text2'><use xlink:href='#icon-file-text2'></use></svg></label><input id='data-24d3eb17-e476-458f-af4e-ca8cbb686873' class='xr-var-data-in' type='checkbox'><label for='data-24d3eb17-e476-458f-af4e-ca8cbb686873' title='Show/Hide data repr'><svg class='icon xr-icon-database'><use xlink:href='#icon-database'></use></svg></label><div class='xr-var-attrs'><dl class='xr-attrs'></dl></div><div class='xr-var-data'><pre>array([  0,   0,   1, ..., 381, 382, 383])</pre></div></li><li class='xr-var-item'><div class='xr-var-name'><span>passage_index</span></div><div class='xr-var-dims'>(presentation)</div><div class='xr-var-dtype'>int64</div><div class='xr-var-preview xr-preview'>1 1 1 1 1 1 1 ... 95 95 96 96 96 96</div><input id='attrs-39055dde-7bd2-4978-ac1b-a93fceaa1627' class='xr-var-attrs-in' type='checkbox' disabled><label for='attrs-39055dde-7bd2-4978-ac1b-a93fceaa1627' title='Show/Hide attributes'><svg class='icon xr-icon-file-text2'><use xlink:href='#icon-file-text2'></use></svg></label><input id='data-06cd71e7-4a94-41a2-abff-9f6084a38078' class='xr-var-data-in' type='checkbox'><label for='data-06cd71e7-4a94-41a2-abff-9f6084a38078' title='Show/Hide data repr'><svg class='icon xr-icon-database'><use xlink:href='#icon-database'></use></svg></label><div class='xr-var-attrs'><dl class='xr-attrs'></dl></div><div class='xr-var-data'><pre>array([ 1,  1,  1, ..., 96, 96, 96])</pre></div></li><li class='xr-var-item'><div class='xr-var-name'><span>passage_label</span></div><div class='xr-var-dims'>(presentation)</div><div class='xr-var-dtype'>object</div><div class='xr-var-preview xr-preview'>&#x27;Accordion&#x27; ... &#x27;Woman&#x27;</div><input id='attrs-1ab243f9-5d32-4037-bfc4-a642352e2735' class='xr-var-attrs-in' type='checkbox' disabled><label for='attrs-1ab243f9-5d32-4037-bfc4-a642352e2735' title='Show/Hide attributes'><svg class='icon xr-icon-file-text2'><use xlink:href='#icon-file-text2'></use></svg></label><input id='data-74dd6fd6-d2cf-4682-a276-303d4a9515c0' class='xr-var-data-in' type='checkbox'><label for='data-74dd6fd6-d2cf-4682-a276-303d4a9515c0' title='Show/Hide data repr'><svg class='icon xr-icon-database'><use xlink:href='#icon-database'></use></svg></label><div class='xr-var-attrs'><dl class='xr-attrs'></dl></div><div class='xr-var-data'><pre>array([&#x27;Accordion&#x27;, &#x27;beekeeping&#x27;, &#x27;Accordion&#x27;, ..., &#x27;Woman&#x27;, &#x27;Woman&#x27;, &#x27;Woman&#x27;],\n      dtype=object)</pre></div></li><li class='xr-var-item'><div class='xr-var-name'><span>passage_category</span></div><div class='xr-var-dims'>(presentation)</div><div class='xr-var-dtype'>object</div><div class='xr-var-preview xr-preview'>&#x27;music&#x27; &#x27;beekeeping&#x27; ... &#x27;human&#x27;</div><input id='attrs-71e758fb-51ab-4602-9575-30efa6f54bc1' class='xr-var-attrs-in' type='checkbox' disabled><label for='attrs-71e758fb-51ab-4602-9575-30efa6f54bc1' title='Show/Hide attributes'><svg class='icon xr-icon-file-text2'><use xlink:href='#icon-file-text2'></use></svg></label><input id='data-f5676fb2-22a3-48d5-a30c-acd657f99010' class='xr-var-data-in' type='checkbox'><label for='data-f5676fb2-22a3-48d5-a30c-acd657f99010' title='Show/Hide data repr'><svg class='icon xr-icon-database'><use xlink:href='#icon-database'></use></svg></label><div class='xr-var-attrs'><dl class='xr-attrs'></dl></div><div class='xr-var-data'><pre>array([&#x27;music&#x27;, &#x27;beekeeping&#x27;, &#x27;music&#x27;, ..., &#x27;human&#x27;, &#x27;human&#x27;, &#x27;human&#x27;],\n      dtype=object)</pre></div></li><li class='xr-var-item'><div class='xr-var-name'><span>stimulus_id</span></div><div class='xr-var-dims'>(presentation)</div><div class='xr-var-dtype'>object</div><div class='xr-var-preview xr-preview'>&#x27;384sentences.0&#x27; ... &#x27;384sentenc...</div><input id='attrs-ee8f3d92-5a44-4fee-9f50-fe32c931d72f' class='xr-var-attrs-in' type='checkbox' disabled><label for='attrs-ee8f3d92-5a44-4fee-9f50-fe32c931d72f' title='Show/Hide attributes'><svg class='icon xr-icon-file-text2'><use xlink:href='#icon-file-text2'></use></svg></label><input id='data-461df856-d4fe-4fa6-8fab-2d3c214c9202' class='xr-var-data-in' type='checkbox'><label for='data-461df856-d4fe-4fa6-8fab-2d3c214c9202' title='Show/Hide data repr'><svg class='icon xr-icon-database'><use xlink:href='#icon-database'></use></svg></label><div class='xr-var-attrs'><dl class='xr-attrs'></dl></div><div class='xr-var-data'><pre>array([&#x27;384sentences.0&#x27;, &#x27;243sentences.0&#x27;, &#x27;384sentences.1&#x27;, ...,\n       &#x27;384sentences.381&#x27;, &#x27;384sentences.382&#x27;, &#x27;384sentences.383&#x27;],\n      dtype=object)</pre></div></li><li class='xr-var-item'><div class='xr-var-name'><span>story</span></div><div class='xr-var-dims'>(presentation)</div><div class='xr-var-dtype'>object</div><div class='xr-var-preview xr-preview'>&#x27;384sentences.music&#x27; ... &#x27;384sen...</div><input id='attrs-90889f60-44ea-484e-9ca8-2e7577b2b849' class='xr-var-attrs-in' type='checkbox' disabled><label for='attrs-90889f60-44ea-484e-9ca8-2e7577b2b849' title='Show/Hide attributes'><svg class='icon xr-icon-file-text2'><use xlink:href='#icon-file-text2'></use></svg></label><input id='data-f0e5e70d-b667-44e8-a38e-8b94b711ad0c' class='xr-var-data-in' type='checkbox'><label for='data-f0e5e70d-b667-44e8-a38e-8b94b711ad0c' title='Show/Hide data repr'><svg class='icon xr-icon-database'><use xlink:href='#icon-database'></use></svg></label><div class='xr-var-attrs'><dl class='xr-attrs'></dl></div><div class='xr-var-data'><pre>array([&#x27;384sentences.music&#x27;, &#x27;243sentences.beekeeping&#x27;, &#x27;384sentences.music&#x27;,\n       ..., &#x27;384sentences.human&#x27;, &#x27;384sentences.human&#x27;, &#x27;384sentences.human&#x27;],\n      dtype=object)</pre></div></li><li class='xr-var-item'><div class='xr-var-name'><span>experiment</span></div><div class='xr-var-dims'>(presentation)</div><div class='xr-var-dtype'>object</div><div class='xr-var-preview xr-preview'>&#x27;384sentences&#x27; ... &#x27;384sentences&#x27;</div><input id='attrs-1223cebb-ecfc-4a96-95c2-d101839f9c6d' class='xr-var-attrs-in' type='checkbox' disabled><label for='attrs-1223cebb-ecfc-4a96-95c2-d101839f9c6d' title='Show/Hide attributes'><svg class='icon xr-icon-file-text2'><use xlink:href='#icon-file-text2'></use></svg></label><input id='data-bbc1edb2-ca9d-4940-b6ac-e809b9b80123' class='xr-var-data-in' type='checkbox'><label for='data-bbc1edb2-ca9d-4940-b6ac-e809b9b80123' title='Show/Hide data repr'><svg class='icon xr-icon-database'><use xlink:href='#icon-database'></use></svg></label><div class='xr-var-attrs'><dl class='xr-attrs'></dl></div><div class='xr-var-data'><pre>array([&#x27;384sentences&#x27;, &#x27;243sentences&#x27;, &#x27;384sentences&#x27;, ..., &#x27;384sentences&#x27;,\n       &#x27;384sentences&#x27;, &#x27;384sentences&#x27;], dtype=object)</pre></div></li><li class='xr-var-item'><div class='xr-var-name'><span class='xr-has-index'>neuroid</span></div><div class='xr-var-dims'>(neuroid)</div><div class='xr-var-dtype'>MultiIndex</div><div class='xr-var-preview xr-preview'>(subject, voxel_num, atlas, filter_strategy, atlas_selection, roi, indices_in_3d, col_to_coord_1, col_to_coord_2, col_to_coord_3, neuroid_id)</div><input id='attrs-b533b111-252e-4c65-ab52-3fd21143f251' class='xr-var-attrs-in' type='checkbox' disabled><label for='attrs-b533b111-252e-4c65-ab52-3fd21143f251' title='Show/Hide attributes'><svg class='icon xr-icon-file-text2'><use xlink:href='#icon-file-text2'></use></svg></label><input id='data-78ad6833-c43f-46b6-a4bf-0502cbacc4d7' class='xr-var-data-in' type='checkbox'><label for='data-78ad6833-c43f-46b6-a4bf-0502cbacc4d7' title='Show/Hide data repr'><svg class='icon xr-icon-database'><use xlink:href='#icon-database'></use></svg></label><div class='xr-var-attrs'><dl class='xr-attrs'></dl></div><div class='xr-var-data'><pre>array([(&#x27;018&#x27;, 28, &#x27;language&#x27;, &#x27;&#x27;, &#x27;from90to100prcnt&#x27;, &#x27;LH_AntTemp&#x27;, 72505, 62, 63, 10, &#x27;018.28&#x27;),\n       (&#x27;018&#x27;, 29, &#x27;language&#x27;, &#x27;&#x27;, &#x27;from90to100prcnt&#x27;, &#x27;LH_AntTemp&#x27;, 72506, 63, 63, 10, &#x27;018.29&#x27;),\n       (&#x27;018&#x27;, 31, &#x27;language&#x27;, &#x27;&#x27;, &#x27;from90to100prcnt&#x27;, &#x27;LH_AntTemp&#x27;, 72584, 62, 64, 10, &#x27;018.31&#x27;),\n       ...,\n       (&#x27;426&#x27;, 32540, &#x27;MD&#x27;, &#x27;HminusE&#x27;, &#x27;from90to100prcnt&#x27;, &#x27;LH_supFrontal&#x27;, 454542, 55, 54, 61, &#x27;426.32540&#x27;),\n       (&#x27;426&#x27;, 32607, &#x27;MD&#x27;, &#x27;HminusE&#x27;, &#x27;from90to100prcnt&#x27;, &#x27;LH_supFrontal&#x27;, 461888, 54, 52, 62, &#x27;426.32607&#x27;),\n       (&#x27;426&#x27;, 32611, &#x27;MD&#x27;, &#x27;HminusE&#x27;, &#x27;from90to100prcnt&#x27;, &#x27;LH_supFrontal&#x27;, 461967, 54, 53, 62, &#x27;426.32611&#x27;)],\n      dtype=object)</pre></div></li><li class='xr-var-item'><div class='xr-var-name'><span>subject</span></div><div class='xr-var-dims'>(neuroid)</div><div class='xr-var-dtype'>object</div><div class='xr-var-preview xr-preview'>&#x27;018&#x27; &#x27;018&#x27; &#x27;018&#x27; ... &#x27;426&#x27; &#x27;426&#x27;</div><input id='attrs-4c756bf8-92f2-4373-8fc9-881e77527b5b' class='xr-var-attrs-in' type='checkbox' disabled><label for='attrs-4c756bf8-92f2-4373-8fc9-881e77527b5b' title='Show/Hide attributes'><svg class='icon xr-icon-file-text2'><use xlink:href='#icon-file-text2'></use></svg></label><input id='data-d7024cc2-0347-42b6-aa5d-39349d6d7e87' class='xr-var-data-in' type='checkbox'><label for='data-d7024cc2-0347-42b6-aa5d-39349d6d7e87' title='Show/Hide data repr'><svg class='icon xr-icon-database'><use xlink:href='#icon-database'></use></svg></label><div class='xr-var-attrs'><dl class='xr-attrs'></dl></div><div class='xr-var-data'><pre>array([&#x27;018&#x27;, &#x27;018&#x27;, &#x27;018&#x27;, ..., &#x27;426&#x27;, &#x27;426&#x27;, &#x27;426&#x27;], dtype=object)</pre></div></li><li class='xr-var-item'><div class='xr-var-name'><span>voxel_num</span></div><div class='xr-var-dims'>(neuroid)</div><div class='xr-var-dtype'>int64</div><div class='xr-var-preview xr-preview'>28 29 31 32 ... 32540 32607 32611</div><input id='attrs-a9cdbcfe-442a-4bd6-9801-16c7e2b49da4' class='xr-var-attrs-in' type='checkbox' disabled><label for='attrs-a9cdbcfe-442a-4bd6-9801-16c7e2b49da4' title='Show/Hide attributes'><svg class='icon xr-icon-file-text2'><use xlink:href='#icon-file-text2'></use></svg></label><input id='data-d8b654ae-d865-44dc-84b6-24d4d9944294' class='xr-var-data-in' type='checkbox'><label for='data-d8b654ae-d865-44dc-84b6-24d4d9944294' title='Show/Hide data repr'><svg class='icon xr-icon-database'><use xlink:href='#icon-database'></use></svg></label><div class='xr-var-attrs'><dl class='xr-attrs'></dl></div><div class='xr-var-data'><pre>array([   28,    29,    31, ..., 32540, 32607, 32611])</pre></div></li><li class='xr-var-item'><div class='xr-var-name'><span>atlas</span></div><div class='xr-var-dims'>(neuroid)</div><div class='xr-var-dtype'>object</div><div class='xr-var-preview xr-preview'>&#x27;language&#x27; &#x27;language&#x27; ... &#x27;MD&#x27; &#x27;MD&#x27;</div><input id='attrs-9454f6b8-3dae-4af8-9e56-91b9363a911e' class='xr-var-attrs-in' type='checkbox' disabled><label for='attrs-9454f6b8-3dae-4af8-9e56-91b9363a911e' title='Show/Hide attributes'><svg class='icon xr-icon-file-text2'><use xlink:href='#icon-file-text2'></use></svg></label><input id='data-e8c2d3b5-2bb1-43bd-b59d-ac758841442e' class='xr-var-data-in' type='checkbox'><label for='data-e8c2d3b5-2bb1-43bd-b59d-ac758841442e' title='Show/Hide data repr'><svg class='icon xr-icon-database'><use xlink:href='#icon-database'></use></svg></label><div class='xr-var-attrs'><dl class='xr-attrs'></dl></div><div class='xr-var-data'><pre>array([&#x27;language&#x27;, &#x27;language&#x27;, &#x27;language&#x27;, ..., &#x27;MD&#x27;, &#x27;MD&#x27;, &#x27;MD&#x27;], dtype=object)</pre></div></li><li class='xr-var-item'><div class='xr-var-name'><span>filter_strategy</span></div><div class='xr-var-dims'>(neuroid)</div><div class='xr-var-dtype'>object</div><div class='xr-var-preview xr-preview'>&#x27;&#x27; &#x27;&#x27; &#x27;&#x27; ... &#x27;HminusE&#x27; &#x27;HminusE&#x27;</div><input id='attrs-c50e6aee-39b7-4e65-aaf8-e9a8dd9404e7' class='xr-var-attrs-in' type='checkbox' disabled><label for='attrs-c50e6aee-39b7-4e65-aaf8-e9a8dd9404e7' title='Show/Hide attributes'><svg class='icon xr-icon-file-text2'><use xlink:href='#icon-file-text2'></use></svg></label><input id='data-190297a5-a713-413e-946e-476274b0d7b6' class='xr-var-data-in' type='checkbox'><label for='data-190297a5-a713-413e-946e-476274b0d7b6' title='Show/Hide data repr'><svg class='icon xr-icon-database'><use xlink:href='#icon-database'></use></svg></label><div class='xr-var-attrs'><dl class='xr-attrs'></dl></div><div class='xr-var-data'><pre>array([&#x27;&#x27;, &#x27;&#x27;, &#x27;&#x27;, ..., &#x27;HminusE&#x27;, &#x27;HminusE&#x27;, &#x27;HminusE&#x27;], dtype=object)</pre></div></li><li class='xr-var-item'><div class='xr-var-name'><span>atlas_selection</span></div><div class='xr-var-dims'>(neuroid)</div><div class='xr-var-dtype'>object</div><div class='xr-var-preview xr-preview'>&#x27;from90to100prcnt&#x27; ... &#x27;from90to...</div><input id='attrs-f1b52c56-a9fd-4753-9ac6-4b18f5f9baa3' class='xr-var-attrs-in' type='checkbox' disabled><label for='attrs-f1b52c56-a9fd-4753-9ac6-4b18f5f9baa3' title='Show/Hide attributes'><svg class='icon xr-icon-file-text2'><use xlink:href='#icon-file-text2'></use></svg></label><input id='data-c6ea2ea2-2c18-4230-a671-fc6fca52031e' class='xr-var-data-in' type='checkbox'><label for='data-c6ea2ea2-2c18-4230-a671-fc6fca52031e' title='Show/Hide data repr'><svg class='icon xr-icon-database'><use xlink:href='#icon-database'></use></svg></label><div class='xr-var-attrs'><dl class='xr-attrs'></dl></div><div class='xr-var-data'><pre>array([&#x27;from90to100prcnt&#x27;, &#x27;from90to100prcnt&#x27;, &#x27;from90to100prcnt&#x27;, ...,\n       &#x27;from90to100prcnt&#x27;, &#x27;from90to100prcnt&#x27;, &#x27;from90to100prcnt&#x27;],\n      dtype=object)</pre></div></li><li class='xr-var-item'><div class='xr-var-name'><span>roi</span></div><div class='xr-var-dims'>(neuroid)</div><div class='xr-var-dtype'>object</div><div class='xr-var-preview xr-preview'>&#x27;LH_AntTemp&#x27; ... &#x27;LH_supFrontal&#x27;</div><input id='attrs-bfbee208-38d1-4e1c-a558-992bcf652983' class='xr-var-attrs-in' type='checkbox' disabled><label for='attrs-bfbee208-38d1-4e1c-a558-992bcf652983' title='Show/Hide attributes'><svg class='icon xr-icon-file-text2'><use xlink:href='#icon-file-text2'></use></svg></label><input id='data-e81cc109-e584-4bac-8a8d-c23396f7f957' class='xr-var-data-in' type='checkbox'><label for='data-e81cc109-e584-4bac-8a8d-c23396f7f957' title='Show/Hide data repr'><svg class='icon xr-icon-database'><use xlink:href='#icon-database'></use></svg></label><div class='xr-var-attrs'><dl class='xr-attrs'></dl></div><div class='xr-var-data'><pre>array([&#x27;LH_AntTemp&#x27;, &#x27;LH_AntTemp&#x27;, &#x27;LH_AntTemp&#x27;, ..., &#x27;LH_supFrontal&#x27;,\n       &#x27;LH_supFrontal&#x27;, &#x27;LH_supFrontal&#x27;], dtype=object)</pre></div></li><li class='xr-var-item'><div class='xr-var-name'><span>indices_in_3d</span></div><div class='xr-var-dims'>(neuroid)</div><div class='xr-var-dtype'>int64</div><div class='xr-var-preview xr-preview'>72505 72506 72584 ... 461888 461967</div><input id='attrs-087b9d45-8f8b-473a-a542-25df279ce281' class='xr-var-attrs-in' type='checkbox' disabled><label for='attrs-087b9d45-8f8b-473a-a542-25df279ce281' title='Show/Hide attributes'><svg class='icon xr-icon-file-text2'><use xlink:href='#icon-file-text2'></use></svg></label><input id='data-a3fd53d7-aed4-446c-81fb-63be426f591c' class='xr-var-data-in' type='checkbox'><label for='data-a3fd53d7-aed4-446c-81fb-63be426f591c' title='Show/Hide data repr'><svg class='icon xr-icon-database'><use xlink:href='#icon-database'></use></svg></label><div class='xr-var-attrs'><dl class='xr-attrs'></dl></div><div class='xr-var-data'><pre>array([ 72505,  72506,  72584, ..., 454542, 461888, 461967])</pre></div></li><li class='xr-var-item'><div class='xr-var-name'><span>col_to_coord_1</span></div><div class='xr-var-dims'>(neuroid)</div><div class='xr-var-dtype'>int64</div><div class='xr-var-preview xr-preview'>62 63 62 63 63 ... 55 54 55 54 54</div><input id='attrs-afb19839-960a-4f6d-b4c7-eae9ddf6b77d' class='xr-var-attrs-in' type='checkbox' disabled><label for='attrs-afb19839-960a-4f6d-b4c7-eae9ddf6b77d' title='Show/Hide attributes'><svg class='icon xr-icon-file-text2'><use xlink:href='#icon-file-text2'></use></svg></label><input id='data-9542503d-a9d8-4fc3-9022-380eae092179' class='xr-var-data-in' type='checkbox'><label for='data-9542503d-a9d8-4fc3-9022-380eae092179' title='Show/Hide data repr'><svg class='icon xr-icon-database'><use xlink:href='#icon-database'></use></svg></label><div class='xr-var-attrs'><dl class='xr-attrs'></dl></div><div class='xr-var-data'><pre>array([62, 63, 62, ..., 55, 54, 54])</pre></div></li><li class='xr-var-item'><div class='xr-var-name'><span>col_to_coord_2</span></div><div class='xr-var-dims'>(neuroid)</div><div class='xr-var-dtype'>int64</div><div class='xr-var-preview xr-preview'>63 63 64 64 65 ... 53 54 54 52 53</div><input id='attrs-99d3b9c6-280d-48b7-a887-16a488085e3e' class='xr-var-attrs-in' type='checkbox' disabled><label for='attrs-99d3b9c6-280d-48b7-a887-16a488085e3e' title='Show/Hide attributes'><svg class='icon xr-icon-file-text2'><use xlink:href='#icon-file-text2'></use></svg></label><input id='data-b422ea5c-f619-4f23-b139-ddc2297e384f' class='xr-var-data-in' type='checkbox'><label for='data-b422ea5c-f619-4f23-b139-ddc2297e384f' title='Show/Hide data repr'><svg class='icon xr-icon-database'><use xlink:href='#icon-database'></use></svg></label><div class='xr-var-attrs'><dl class='xr-attrs'></dl></div><div class='xr-var-data'><pre>array([63, 63, 64, ..., 54, 52, 53])</pre></div></li><li class='xr-var-item'><div class='xr-var-name'><span>col_to_coord_3</span></div><div class='xr-var-dims'>(neuroid)</div><div class='xr-var-dtype'>int64</div><div class='xr-var-preview xr-preview'>10 10 10 10 10 ... 61 61 61 62 62</div><input id='attrs-6472e8fd-9ac0-433b-91b5-4b1bc993aca4' class='xr-var-attrs-in' type='checkbox' disabled><label for='attrs-6472e8fd-9ac0-433b-91b5-4b1bc993aca4' title='Show/Hide attributes'><svg class='icon xr-icon-file-text2'><use xlink:href='#icon-file-text2'></use></svg></label><input id='data-9bd4df6b-e791-4e07-8a2e-5e2c8cdf44a5' class='xr-var-data-in' type='checkbox'><label for='data-9bd4df6b-e791-4e07-8a2e-5e2c8cdf44a5' title='Show/Hide data repr'><svg class='icon xr-icon-database'><use xlink:href='#icon-database'></use></svg></label><div class='xr-var-attrs'><dl class='xr-attrs'></dl></div><div class='xr-var-data'><pre>array([10, 10, 10, ..., 61, 62, 62])</pre></div></li><li class='xr-var-item'><div class='xr-var-name'><span>neuroid_id</span></div><div class='xr-var-dims'>(neuroid)</div><div class='xr-var-dtype'>object</div><div class='xr-var-preview xr-preview'>&#x27;018.28&#x27; &#x27;018.29&#x27; ... &#x27;426.32611&#x27;</div><input id='attrs-c80a80aa-d57d-4d89-81cb-11f9b3cb4269' class='xr-var-attrs-in' type='checkbox' disabled><label for='attrs-c80a80aa-d57d-4d89-81cb-11f9b3cb4269' title='Show/Hide attributes'><svg class='icon xr-icon-file-text2'><use xlink:href='#icon-file-text2'></use></svg></label><input id='data-d9f20e80-877e-40a5-89f7-7c0343955e3c' class='xr-var-data-in' type='checkbox'><label for='data-d9f20e80-877e-40a5-89f7-7c0343955e3c' title='Show/Hide data repr'><svg class='icon xr-icon-database'><use xlink:href='#icon-database'></use></svg></label><div class='xr-var-attrs'><dl class='xr-attrs'></dl></div><div class='xr-var-data'><pre>array([&#x27;018.28&#x27;, &#x27;018.29&#x27;, &#x27;018.31&#x27;, ..., &#x27;426.32540&#x27;, &#x27;426.32607&#x27;,\n       &#x27;426.32611&#x27;], dtype=object)</pre></div></li></ul></div></li><li class='xr-section-item'><input id='section-95aaefad-eec8-4dca-beb9-92c55b19c125' class='xr-section-summary-in' type='checkbox'  checked><label for='section-95aaefad-eec8-4dca-beb9-92c55b19c125' class='xr-section-summary' >Attributes: <span>(5)</span></label><div class='xr-section-inline-details'></div><div class='xr-section-details'><dl class='xr-attrs'><dt><span>version :</span></dt><dd>base</dd><dt><span>stimulus_set :</span></dt><dd>                                              sentence  sentence_num  \\\n0    Beekeeping encourages the conservation of loca...             0   \n1    It is in every beekeeper&#x27;s interest to conserv...             1   \n2    As a passive form of agriculture, it does not ...             2   \n3    Beekeepers also discourage the use of pesticid...             3   \n4    Artisanal beekeepers go to extremes for their ...             4   \n..                                                 ...           ...   \n622  Some windows have multiple panes to increase i...           379   \n623                   A woman is a female human adult.           380   \n624    A woman is stereotypically seen as a caregiver.           381   \n625     A woman can become pregnant and bear children.           382   \n626  A woman has different reproductive organs than...           383   \n\n          stimulus_id    experiment                       story  \\\n0      243sentences.0  243sentences     243sentences.beekeeping   \n1      243sentences.1  243sentences     243sentences.beekeeping   \n2      243sentences.2  243sentences     243sentences.beekeeping   \n3      243sentences.3  243sentences     243sentences.beekeeping   \n4      243sentences.4  243sentences     243sentences.beekeeping   \n..                ...           ...                         ...   \n622  384sentences.379  384sentences  384sentences.building_part   \n623  384sentences.380  384sentences          384sentences.human   \n624  384sentences.381  384sentences          384sentences.human   \n625  384sentences.382  384sentences          384sentences.human   \n626  384sentences.383  384sentences          384sentences.human   \n\n     passage_index passage_label passage_category  \n0                1    beekeeping       beekeeping  \n1                1    beekeeping       beekeeping  \n2                1    beekeeping       beekeeping  \n3                1    beekeeping       beekeeping  \n4                2    beekeeping       beekeeping  \n..             ...           ...              ...  \n622             95        Window    building_part  \n623             96         Woman            human  \n624             96         Woman            human  \n625             96         Woman            human  \n626             96         Woman            human  \n\n[627 rows x 8 columns]</dd><dt><span>class_module :</span></dt><dd>brainio_base.assemblies</dd><dt><span>class_name :</span></dt><dd>NeuroidAssembly</dd><dt><span>stimulus_set_name :</span></dt><dd>Pereira2018</dd></dl></div></li></ul></div></div>"
     },
     "execution_count": 9,
     "metadata": {},
     "output_type": "execute_result"
    }
   ],
   "source": [
    "from neural_nlp.benchmarks import benchmark_pool\n",
    "pereira = benchmark_pool[\"Pereira2018-encoding\"]\n",
    "data = pereira._load_assembly()\n",
    "\n",
    "data"
   ]
  },
  {
   "cell_type": "code",
   "execution_count": 10,
   "id": "fbda5b1f",
   "metadata": {},
   "outputs": [
    {
     "name": "stdout",
     "output_type": "stream",
     "text": [
      "(627, 49760)\n"
     ]
    }
   ],
   "source": [
    "# post-processing copied from PereiraBenchmark in neural.py (lines 393/394)\n",
    "\n",
    "data = data.dropna('neuroid')\n",
    "\n",
    "print(data.shape)"
   ]
  },
  {
   "cell_type": "code",
   "execution_count": 14,
   "id": "c7795e40",
   "metadata": {},
   "outputs": [
    {
     "name": "stdout",
     "output_type": "stream",
     "text": [
      "(627, 49760)\n"
     ]
    }
   ],
   "source": [
    "import numpy as np\n",
    "\n",
    "# Extract stimuli (sentences) from xarray\n",
    "stimuli_texts = {}\n",
    "for _, row in data.attrs['stimulus_set'].iterrows():\n",
    "    stimuli_texts[row['stimulus_id']] = row['sentence']\n",
    "\n",
    "\n",
    "# Extract fmri data\n",
    "stimuli = []\n",
    "brain_reps = []\n",
    "for idx, stimulus_id in enumerate(data.coords['stimulus_id']):\n",
    "    stimuli.append(stimuli_texts[stimulus_id.item()])\n",
    "    brain_reps.append(data.values[idx, :])\n",
    "\n",
    "brain_reps = np.array(brain_reps)\n",
    "\n",
    "assert len(stimuli) == len(brain_reps)\n",
    "\n",
    "print(brain_reps.shape)"
   ]
  },
  {
   "cell_type": "code",
   "execution_count": 13,
   "id": "920dc215",
   "metadata": {},
   "outputs": [],
   "source": [
    "# import pickle\n",
    "# from pathlib import Path\n",
    "#\n",
    "# corpora = Path(__file__) / \"../corpora/\"\n",
    "# corpora.mkdir(exist_ok=True)\n",
    "#\n",
    "# pereira_datafile = corpora / \"pereira.pkl\"\n",
    "#\n",
    "# with open(pereira_datafile, 'wb') as f:\n",
    "#     pickle.dump((stimuli, brain_reps), f)"
   ]
  },
  {
   "cell_type": "code",
   "execution_count": null,
   "id": "241f3967",
   "metadata": {},
   "outputs": [],
   "source": [
    "# start running the notebook here if you \n",
    "# have the pereira.pkl file already!\n",
    "\n",
    "# import pickle\n",
    "# import numpy as np\n",
    "#\n",
    "#\n",
    "#\n",
    "# with open('../corpora/pereira.pkl', 'rb') as f:\n",
    "#     stimuli, brain_reps = pickle.load(f)\n",
    "#\n",
    "# print(brain_reps.shape)"
   ]
  },
  {
   "cell_type": "code",
   "execution_count": 15,
   "id": "f5e1aa5d",
   "metadata": {},
   "outputs": [
    {
     "data": {
      "text/plain": "Downloading:   0%|          | 0.00/0.99M [00:00<?, ?B/s]",
      "application/vnd.jupyter.widget-view+json": {
       "version_major": 2,
       "version_minor": 0,
       "model_id": "8f0b3b94d74647fe85495f238708ec7f"
      }
     },
     "metadata": {},
     "output_type": "display_data"
    },
    {
     "data": {
      "text/plain": "Downloading:   0%|          | 0.00/446k [00:00<?, ?B/s]",
      "application/vnd.jupyter.widget-view+json": {
       "version_major": 2,
       "version_minor": 0,
       "model_id": "2d9bb628d45f488b83ea7195d829cd18"
      }
     },
     "metadata": {},
     "output_type": "display_data"
    },
    {
     "data": {
      "text/plain": "Downloading:   0%|          | 0.00/1.29M [00:00<?, ?B/s]",
      "application/vnd.jupyter.widget-view+json": {
       "version_major": 2,
       "version_minor": 0,
       "model_id": "0dceeb7594914fc3b863369b5214440c"
      }
     },
     "metadata": {},
     "output_type": "display_data"
    },
    {
     "data": {
      "text/plain": "Downloading:   0%|          | 0.00/665 [00:00<?, ?B/s]",
      "application/vnd.jupyter.widget-view+json": {
       "version_major": 2,
       "version_minor": 0,
       "model_id": "d0450c71b3fe44bd831672e09efcb67c"
      }
     },
     "metadata": {},
     "output_type": "display_data"
    },
    {
     "data": {
      "text/plain": "Downloading:   0%|          | 0.00/523M [00:00<?, ?B/s]",
      "application/vnd.jupyter.widget-view+json": {
       "version_major": 2,
       "version_minor": 0,
       "model_id": "151bc20d368949e396060b1a04b3f8e9"
      }
     },
     "metadata": {},
     "output_type": "display_data"
    },
    {
     "data": {
      "text/plain": "GPT2Model(\n  (wte): Embedding(50257, 768)\n  (wpe): Embedding(1024, 768)\n  (drop): Dropout(p=0.1, inplace=False)\n  (h): ModuleList(\n    (0): GPT2Block(\n      (ln_1): LayerNorm((768,), eps=1e-05, elementwise_affine=True)\n      (attn): GPT2Attention(\n        (c_attn): Conv1D()\n        (c_proj): Conv1D()\n        (attn_dropout): Dropout(p=0.1, inplace=False)\n        (resid_dropout): Dropout(p=0.1, inplace=False)\n      )\n      (ln_2): LayerNorm((768,), eps=1e-05, elementwise_affine=True)\n      (mlp): GPT2MLP(\n        (c_fc): Conv1D()\n        (c_proj): Conv1D()\n        (dropout): Dropout(p=0.1, inplace=False)\n      )\n    )\n    (1): GPT2Block(\n      (ln_1): LayerNorm((768,), eps=1e-05, elementwise_affine=True)\n      (attn): GPT2Attention(\n        (c_attn): Conv1D()\n        (c_proj): Conv1D()\n        (attn_dropout): Dropout(p=0.1, inplace=False)\n        (resid_dropout): Dropout(p=0.1, inplace=False)\n      )\n      (ln_2): LayerNorm((768,), eps=1e-05, elementwise_affine=True)\n      (mlp): GPT2MLP(\n        (c_fc): Conv1D()\n        (c_proj): Conv1D()\n        (dropout): Dropout(p=0.1, inplace=False)\n      )\n    )\n    (2): GPT2Block(\n      (ln_1): LayerNorm((768,), eps=1e-05, elementwise_affine=True)\n      (attn): GPT2Attention(\n        (c_attn): Conv1D()\n        (c_proj): Conv1D()\n        (attn_dropout): Dropout(p=0.1, inplace=False)\n        (resid_dropout): Dropout(p=0.1, inplace=False)\n      )\n      (ln_2): LayerNorm((768,), eps=1e-05, elementwise_affine=True)\n      (mlp): GPT2MLP(\n        (c_fc): Conv1D()\n        (c_proj): Conv1D()\n        (dropout): Dropout(p=0.1, inplace=False)\n      )\n    )\n    (3): GPT2Block(\n      (ln_1): LayerNorm((768,), eps=1e-05, elementwise_affine=True)\n      (attn): GPT2Attention(\n        (c_attn): Conv1D()\n        (c_proj): Conv1D()\n        (attn_dropout): Dropout(p=0.1, inplace=False)\n        (resid_dropout): Dropout(p=0.1, inplace=False)\n      )\n      (ln_2): LayerNorm((768,), eps=1e-05, elementwise_affine=True)\n      (mlp): GPT2MLP(\n        (c_fc): Conv1D()\n        (c_proj): Conv1D()\n        (dropout): Dropout(p=0.1, inplace=False)\n      )\n    )\n    (4): GPT2Block(\n      (ln_1): LayerNorm((768,), eps=1e-05, elementwise_affine=True)\n      (attn): GPT2Attention(\n        (c_attn): Conv1D()\n        (c_proj): Conv1D()\n        (attn_dropout): Dropout(p=0.1, inplace=False)\n        (resid_dropout): Dropout(p=0.1, inplace=False)\n      )\n      (ln_2): LayerNorm((768,), eps=1e-05, elementwise_affine=True)\n      (mlp): GPT2MLP(\n        (c_fc): Conv1D()\n        (c_proj): Conv1D()\n        (dropout): Dropout(p=0.1, inplace=False)\n      )\n    )\n    (5): GPT2Block(\n      (ln_1): LayerNorm((768,), eps=1e-05, elementwise_affine=True)\n      (attn): GPT2Attention(\n        (c_attn): Conv1D()\n        (c_proj): Conv1D()\n        (attn_dropout): Dropout(p=0.1, inplace=False)\n        (resid_dropout): Dropout(p=0.1, inplace=False)\n      )\n      (ln_2): LayerNorm((768,), eps=1e-05, elementwise_affine=True)\n      (mlp): GPT2MLP(\n        (c_fc): Conv1D()\n        (c_proj): Conv1D()\n        (dropout): Dropout(p=0.1, inplace=False)\n      )\n    )\n    (6): GPT2Block(\n      (ln_1): LayerNorm((768,), eps=1e-05, elementwise_affine=True)\n      (attn): GPT2Attention(\n        (c_attn): Conv1D()\n        (c_proj): Conv1D()\n        (attn_dropout): Dropout(p=0.1, inplace=False)\n        (resid_dropout): Dropout(p=0.1, inplace=False)\n      )\n      (ln_2): LayerNorm((768,), eps=1e-05, elementwise_affine=True)\n      (mlp): GPT2MLP(\n        (c_fc): Conv1D()\n        (c_proj): Conv1D()\n        (dropout): Dropout(p=0.1, inplace=False)\n      )\n    )\n    (7): GPT2Block(\n      (ln_1): LayerNorm((768,), eps=1e-05, elementwise_affine=True)\n      (attn): GPT2Attention(\n        (c_attn): Conv1D()\n        (c_proj): Conv1D()\n        (attn_dropout): Dropout(p=0.1, inplace=False)\n        (resid_dropout): Dropout(p=0.1, inplace=False)\n      )\n      (ln_2): LayerNorm((768,), eps=1e-05, elementwise_affine=True)\n      (mlp): GPT2MLP(\n        (c_fc): Conv1D()\n        (c_proj): Conv1D()\n        (dropout): Dropout(p=0.1, inplace=False)\n      )\n    )\n    (8): GPT2Block(\n      (ln_1): LayerNorm((768,), eps=1e-05, elementwise_affine=True)\n      (attn): GPT2Attention(\n        (c_attn): Conv1D()\n        (c_proj): Conv1D()\n        (attn_dropout): Dropout(p=0.1, inplace=False)\n        (resid_dropout): Dropout(p=0.1, inplace=False)\n      )\n      (ln_2): LayerNorm((768,), eps=1e-05, elementwise_affine=True)\n      (mlp): GPT2MLP(\n        (c_fc): Conv1D()\n        (c_proj): Conv1D()\n        (dropout): Dropout(p=0.1, inplace=False)\n      )\n    )\n    (9): GPT2Block(\n      (ln_1): LayerNorm((768,), eps=1e-05, elementwise_affine=True)\n      (attn): GPT2Attention(\n        (c_attn): Conv1D()\n        (c_proj): Conv1D()\n        (attn_dropout): Dropout(p=0.1, inplace=False)\n        (resid_dropout): Dropout(p=0.1, inplace=False)\n      )\n      (ln_2): LayerNorm((768,), eps=1e-05, elementwise_affine=True)\n      (mlp): GPT2MLP(\n        (c_fc): Conv1D()\n        (c_proj): Conv1D()\n        (dropout): Dropout(p=0.1, inplace=False)\n      )\n    )\n    (10): GPT2Block(\n      (ln_1): LayerNorm((768,), eps=1e-05, elementwise_affine=True)\n      (attn): GPT2Attention(\n        (c_attn): Conv1D()\n        (c_proj): Conv1D()\n        (attn_dropout): Dropout(p=0.1, inplace=False)\n        (resid_dropout): Dropout(p=0.1, inplace=False)\n      )\n      (ln_2): LayerNorm((768,), eps=1e-05, elementwise_affine=True)\n      (mlp): GPT2MLP(\n        (c_fc): Conv1D()\n        (c_proj): Conv1D()\n        (dropout): Dropout(p=0.1, inplace=False)\n      )\n    )\n    (11): GPT2Block(\n      (ln_1): LayerNorm((768,), eps=1e-05, elementwise_affine=True)\n      (attn): GPT2Attention(\n        (c_attn): Conv1D()\n        (c_proj): Conv1D()\n        (attn_dropout): Dropout(p=0.1, inplace=False)\n        (resid_dropout): Dropout(p=0.1, inplace=False)\n      )\n      (ln_2): LayerNorm((768,), eps=1e-05, elementwise_affine=True)\n      (mlp): GPT2MLP(\n        (c_fc): Conv1D()\n        (c_proj): Conv1D()\n        (dropout): Dropout(p=0.1, inplace=False)\n      )\n    )\n  )\n  (ln_f): LayerNorm((768,), eps=1e-05, elementwise_affine=True)\n)"
     },
     "execution_count": 15,
     "metadata": {},
     "output_type": "execute_result"
    }
   ],
   "source": [
    "import torch\n",
    "from transformers import GPT2Tokenizer, GPT2Model\n",
    "\n",
    "tokenizer = GPT2Tokenizer.from_pretrained('gpt2')\n",
    "model = GPT2Model.from_pretrained('gpt2', output_hidden_states=True)\n",
    "model = model.eval()  # Turn off dropout\n",
    "\n",
    "model"
   ]
  },
  {
   "cell_type": "code",
   "execution_count": 16,
   "id": "f69ab826",
   "metadata": {},
   "outputs": [
    {
     "name": "stderr",
     "output_type": "stream",
     "text": [
      "100%|██████████| 627/627 [00:19<00:00, 32.22it/s]"
     ]
    },
    {
     "name": "stdout",
     "output_type": "stream",
     "text": [
      "(627, 13, 768)\n"
     ]
    },
    {
     "name": "stderr",
     "output_type": "stream",
     "text": [
      "\n"
     ]
    }
   ],
   "source": [
    "import numpy as np\n",
    "from tqdm import tqdm\n",
    "\n",
    "hidden_states = []\n",
    "with torch.no_grad():\n",
    "    for stimulus in tqdm(stimuli):\n",
    "        output = model(\n",
    "            **tokenizer([stimulus], add_special_tokens=True, return_tensors='pt')\n",
    "        )\n",
    "        \n",
    "        layer_reps = []\n",
    "        for layer_hidden_states in output.hidden_states:\n",
    "            # in models/implementations.py, Transformer uses the rep\n",
    "            # of the last word (line 595)\n",
    "            layer_reps.append(layer_hidden_states.squeeze()[-1, :].numpy())\n",
    "        hidden_states.append(layer_reps)\n",
    "hidden_states = np.array(hidden_states)\n",
    "print(hidden_states.shape)"
   ]
  },
  {
   "cell_type": "code",
   "execution_count": 19,
   "id": "6cecacba",
   "metadata": {},
   "outputs": [
    {
     "name": "stderr",
     "output_type": "stream",
     "text": [
      "fold0: 100%|██████████| 13/13 [03:21<00:00, 15.51s/it]\n",
      "fold1: 100%|██████████| 13/13 [03:08<00:00, 14.50s/it]\n",
      "fold2: 100%|██████████| 13/13 [02:49<00:00, 13.06s/it]\n",
      "fold3: 100%|██████████| 13/13 [03:30<00:00, 16.21s/it]\n",
      "fold4: 100%|██████████| 13/13 [03:56<00:00, 18.18s/it]\n"
     ]
    }
   ],
   "source": [
    "from scipy.stats import pearsonr\n",
    "from sklearn.model_selection import KFold\n",
    "from sklearn.linear_model import LinearRegression\n",
    "\n",
    "k_folds = KFold(n_splits=5, shuffle=True)\n",
    "\n",
    "pearsonrs = []\n",
    "for fold, (train_indices, test_indices) in enumerate(k_folds.split(hidden_states)):\n",
    "    pearsonrs.append([])\n",
    "    train_brain_reps, test_brain_reps = brain_reps[train_indices], brain_reps[test_indices]\n",
    "    for layer_num in tqdm(range(len(hidden_states[0])), desc='fold%s' % fold):\n",
    "        train_hidden_states, test_hidden_states = \\\n",
    "            hidden_states[train_indices, layer_num, :], \\\n",
    "            hidden_states[test_indices, layer_num, :]\n",
    "\n",
    "\n",
    "        # TODO: Are they doing any kind of hyperparameter tuning\n",
    "        # (regularization, etc) here?  We're using SKLearn's defaults\n",
    "\n",
    "        model = LinearRegression().fit(train_hidden_states, train_brain_reps)\n",
    "        pred_brain_reps = model.predict(test_hidden_states)\n",
    "        \n",
    "        # We aggregated voxel/electrode/ROI predictivity scores by taking the\n",
    "        # median of scores for each participant’s voxels/electrodes/ROIs and\n",
    "        # then computing the median across participants. Finally, this score was\n",
    "        # divided by the estimated ceiling value (see below) to yield a final score in\n",
    "        # the range [0, 1].\n",
    "        \n",
    "        # https://github.com/brain-score/brain-score/blob/master/brainscore/metrics/xarray_utils.py#L78\n",
    "        # https://github.com/brain-score/brain-score/blob/master/brainscore/metrics/regression.py#L33\n",
    "        # https://github.com/brain-score/brain-score/blob/master/brainscore/metrics/transformations.py#L42\n",
    "        \n",
    "        # not totally sure this is right...\n",
    "        \n",
    "        layer_pearson_rs = []\n",
    "        for pred_brain_rep, test_brain_rep in zip(pred_brain_reps, test_brain_reps):\n",
    "            layer_pearson_rs.append(pearsonr(pred_brain_rep, test_brain_rep))\n",
    "        \n",
    "        pearsonrs[-1].append(np.median(layer_pearson_rs))\n"
   ]
  },
  {
   "cell_type": "code",
   "execution_count": 20,
   "id": "fefc4fcb",
   "metadata": {},
   "outputs": [
    {
     "name": "stdout",
     "output_type": "stream",
     "text": [
      "(0, 0.00408277367472118, 8.939323940392131e-14)\n",
      "(1, 1.422616914515031e-15, 1.8549810867016208e-22)\n",
      "(2, 6.320003546318065e-08, 6.83100467308954e-22)\n",
      "(3, 9.14089075647834e-14, 5.9366842767137336e-21)\n",
      "(4, 8.801125140245791e-07, 3.5496849966057153e-15)\n",
      "(5, 4.2953452545340317e-19, 1.8873712591467982e-27)\n",
      "(6, 2.3607197244805418e-12, 3.500090920938019e-24)\n",
      "(7, 2.917129875655254e-08, 2.6814374774741727e-11)\n",
      "(8, 3.231244327004638e-11, 1.435822032253782e-14)\n",
      "(9, 1.2707904948769912e-06, 6.587829655035209e-15)\n",
      "(10, 8.891380065260758e-18, 1.3435720055964806e-22)\n",
      "(11, 1.8299568950772305e-17, 1.6172832278772864e-20)\n",
      "(12, 7.724724866125182e-11, 1.0161555789294238e-19)\n"
     ]
    }
   ],
   "source": [
    "pearsonrs = np.array(pearsonrs)\n",
    "for layer_num in range(pearsonrs.shape[1]):\n",
    "    print((layer_num, np.mean(pearsonrs[:, layer_num]), np.median(pearsonrs[:, layer_num])))\n"
   ]
  },
  {
   "cell_type": "code",
   "execution_count": 22,
   "outputs": [
    {
     "data": {
      "text/plain": "<xarray.Score (aggregation: 3)>\narray([0.31856696, 0.01295766, 0.01657364])\nCoordinates:\n  * aggregation  (aggregation) object 'center' 'error_low' 'error_high'\nAttributes:\n    class_module:  brainscore.metrics\n    class_name:    Score",
      "text/html": "<div><svg style=\"position: absolute; width: 0; height: 0; overflow: hidden\">\n<defs>\n<symbol id=\"icon-database\" viewBox=\"0 0 32 32\">\n<path d=\"M16 0c-8.837 0-16 2.239-16 5v4c0 2.761 7.163 5 16 5s16-2.239 16-5v-4c0-2.761-7.163-5-16-5z\"></path>\n<path d=\"M16 17c-8.837 0-16-2.239-16-5v6c0 2.761 7.163 5 16 5s16-2.239 16-5v-6c0 2.761-7.163 5-16 5z\"></path>\n<path d=\"M16 26c-8.837 0-16-2.239-16-5v6c0 2.761 7.163 5 16 5s16-2.239 16-5v-6c0 2.761-7.163 5-16 5z\"></path>\n</symbol>\n<symbol id=\"icon-file-text2\" viewBox=\"0 0 32 32\">\n<path d=\"M28.681 7.159c-0.694-0.947-1.662-2.053-2.724-3.116s-2.169-2.030-3.116-2.724c-1.612-1.182-2.393-1.319-2.841-1.319h-15.5c-1.378 0-2.5 1.121-2.5 2.5v27c0 1.378 1.122 2.5 2.5 2.5h23c1.378 0 2.5-1.122 2.5-2.5v-19.5c0-0.448-0.137-1.23-1.319-2.841zM24.543 5.457c0.959 0.959 1.712 1.825 2.268 2.543h-4.811v-4.811c0.718 0.556 1.584 1.309 2.543 2.268zM28 29.5c0 0.271-0.229 0.5-0.5 0.5h-23c-0.271 0-0.5-0.229-0.5-0.5v-27c0-0.271 0.229-0.5 0.5-0.5 0 0 15.499-0 15.5 0v7c0 0.552 0.448 1 1 1h7v19.5z\"></path>\n<path d=\"M23 26h-14c-0.552 0-1-0.448-1-1s0.448-1 1-1h14c0.552 0 1 0.448 1 1s-0.448 1-1 1z\"></path>\n<path d=\"M23 22h-14c-0.552 0-1-0.448-1-1s0.448-1 1-1h14c0.552 0 1 0.448 1 1s-0.448 1-1 1z\"></path>\n<path d=\"M23 18h-14c-0.552 0-1-0.448-1-1s0.448-1 1-1h14c0.552 0 1 0.448 1 1s-0.448 1-1 1z\"></path>\n</symbol>\n</defs>\n</svg>\n<style>/* CSS stylesheet for displaying xarray objects in jupyterlab.\n *\n */\n\n:root {\n  --xr-font-color0: var(--jp-content-font-color0, rgba(0, 0, 0, 1));\n  --xr-font-color2: var(--jp-content-font-color2, rgba(0, 0, 0, 0.54));\n  --xr-font-color3: var(--jp-content-font-color3, rgba(0, 0, 0, 0.38));\n  --xr-border-color: var(--jp-border-color2, #e0e0e0);\n  --xr-disabled-color: var(--jp-layout-color3, #bdbdbd);\n  --xr-background-color: var(--jp-layout-color0, white);\n  --xr-background-color-row-even: var(--jp-layout-color1, white);\n  --xr-background-color-row-odd: var(--jp-layout-color2, #eeeeee);\n}\n\nhtml[theme=dark],\nbody.vscode-dark {\n  --xr-font-color0: rgba(255, 255, 255, 1);\n  --xr-font-color2: rgba(255, 255, 255, 0.54);\n  --xr-font-color3: rgba(255, 255, 255, 0.38);\n  --xr-border-color: #1F1F1F;\n  --xr-disabled-color: #515151;\n  --xr-background-color: #111111;\n  --xr-background-color-row-even: #111111;\n  --xr-background-color-row-odd: #313131;\n}\n\n.xr-wrap {\n  display: block;\n  min-width: 300px;\n  max-width: 700px;\n}\n\n.xr-text-repr-fallback {\n  /* fallback to plain text repr when CSS is not injected (untrusted notebook) */\n  display: none;\n}\n\n.xr-header {\n  padding-top: 6px;\n  padding-bottom: 6px;\n  margin-bottom: 4px;\n  border-bottom: solid 1px var(--xr-border-color);\n}\n\n.xr-header > div,\n.xr-header > ul {\n  display: inline;\n  margin-top: 0;\n  margin-bottom: 0;\n}\n\n.xr-obj-type,\n.xr-array-name {\n  margin-left: 2px;\n  margin-right: 10px;\n}\n\n.xr-obj-type {\n  color: var(--xr-font-color2);\n}\n\n.xr-sections {\n  padding-left: 0 !important;\n  display: grid;\n  grid-template-columns: 150px auto auto 1fr 20px 20px;\n}\n\n.xr-section-item {\n  display: contents;\n}\n\n.xr-section-item input {\n  display: none;\n}\n\n.xr-section-item input + label {\n  color: var(--xr-disabled-color);\n}\n\n.xr-section-item input:enabled + label {\n  cursor: pointer;\n  color: var(--xr-font-color2);\n}\n\n.xr-section-item input:enabled + label:hover {\n  color: var(--xr-font-color0);\n}\n\n.xr-section-summary {\n  grid-column: 1;\n  color: var(--xr-font-color2);\n  font-weight: 500;\n}\n\n.xr-section-summary > span {\n  display: inline-block;\n  padding-left: 0.5em;\n}\n\n.xr-section-summary-in:disabled + label {\n  color: var(--xr-font-color2);\n}\n\n.xr-section-summary-in + label:before {\n  display: inline-block;\n  content: '►';\n  font-size: 11px;\n  width: 15px;\n  text-align: center;\n}\n\n.xr-section-summary-in:disabled + label:before {\n  color: var(--xr-disabled-color);\n}\n\n.xr-section-summary-in:checked + label:before {\n  content: '▼';\n}\n\n.xr-section-summary-in:checked + label > span {\n  display: none;\n}\n\n.xr-section-summary,\n.xr-section-inline-details {\n  padding-top: 4px;\n  padding-bottom: 4px;\n}\n\n.xr-section-inline-details {\n  grid-column: 2 / -1;\n}\n\n.xr-section-details {\n  display: none;\n  grid-column: 1 / -1;\n  margin-bottom: 5px;\n}\n\n.xr-section-summary-in:checked ~ .xr-section-details {\n  display: contents;\n}\n\n.xr-array-wrap {\n  grid-column: 1 / -1;\n  display: grid;\n  grid-template-columns: 20px auto;\n}\n\n.xr-array-wrap > label {\n  grid-column: 1;\n  vertical-align: top;\n}\n\n.xr-preview {\n  color: var(--xr-font-color3);\n}\n\n.xr-array-preview,\n.xr-array-data {\n  padding: 0 5px !important;\n  grid-column: 2;\n}\n\n.xr-array-data,\n.xr-array-in:checked ~ .xr-array-preview {\n  display: none;\n}\n\n.xr-array-in:checked ~ .xr-array-data,\n.xr-array-preview {\n  display: inline-block;\n}\n\n.xr-dim-list {\n  display: inline-block !important;\n  list-style: none;\n  padding: 0 !important;\n  margin: 0;\n}\n\n.xr-dim-list li {\n  display: inline-block;\n  padding: 0;\n  margin: 0;\n}\n\n.xr-dim-list:before {\n  content: '(';\n}\n\n.xr-dim-list:after {\n  content: ')';\n}\n\n.xr-dim-list li:not(:last-child):after {\n  content: ',';\n  padding-right: 5px;\n}\n\n.xr-has-index {\n  font-weight: bold;\n}\n\n.xr-var-list,\n.xr-var-item {\n  display: contents;\n}\n\n.xr-var-item > div,\n.xr-var-item label,\n.xr-var-item > .xr-var-name span {\n  background-color: var(--xr-background-color-row-even);\n  margin-bottom: 0;\n}\n\n.xr-var-item > .xr-var-name:hover span {\n  padding-right: 5px;\n}\n\n.xr-var-list > li:nth-child(odd) > div,\n.xr-var-list > li:nth-child(odd) > label,\n.xr-var-list > li:nth-child(odd) > .xr-var-name span {\n  background-color: var(--xr-background-color-row-odd);\n}\n\n.xr-var-name {\n  grid-column: 1;\n}\n\n.xr-var-dims {\n  grid-column: 2;\n}\n\n.xr-var-dtype {\n  grid-column: 3;\n  text-align: right;\n  color: var(--xr-font-color2);\n}\n\n.xr-var-preview {\n  grid-column: 4;\n}\n\n.xr-var-name,\n.xr-var-dims,\n.xr-var-dtype,\n.xr-preview,\n.xr-attrs dt {\n  white-space: nowrap;\n  overflow: hidden;\n  text-overflow: ellipsis;\n  padding-right: 10px;\n}\n\n.xr-var-name:hover,\n.xr-var-dims:hover,\n.xr-var-dtype:hover,\n.xr-attrs dt:hover {\n  overflow: visible;\n  width: auto;\n  z-index: 1;\n}\n\n.xr-var-attrs,\n.xr-var-data {\n  display: none;\n  background-color: var(--xr-background-color) !important;\n  padding-bottom: 5px !important;\n}\n\n.xr-var-attrs-in:checked ~ .xr-var-attrs,\n.xr-var-data-in:checked ~ .xr-var-data {\n  display: block;\n}\n\n.xr-var-data > table {\n  float: right;\n}\n\n.xr-var-name span,\n.xr-var-data,\n.xr-attrs {\n  padding-left: 25px !important;\n}\n\n.xr-attrs,\n.xr-var-attrs,\n.xr-var-data {\n  grid-column: 1 / -1;\n}\n\ndl.xr-attrs {\n  padding: 0;\n  margin: 0;\n  display: grid;\n  grid-template-columns: 125px auto;\n}\n\n.xr-attrs dt,\n.xr-attrs dd {\n  padding: 0;\n  margin: 0;\n  float: left;\n  padding-right: 10px;\n  width: auto;\n}\n\n.xr-attrs dt {\n  font-weight: normal;\n  grid-column: 1;\n}\n\n.xr-attrs dt:hover span {\n  display: inline-block;\n  background: var(--xr-background-color);\n  padding-right: 10px;\n}\n\n.xr-attrs dd {\n  grid-column: 2;\n  white-space: pre-wrap;\n  word-break: break-all;\n}\n\n.xr-icon-database,\n.xr-icon-file-text2 {\n  display: inline-block;\n  vertical-align: middle;\n  width: 1em;\n  height: 1.5em !important;\n  stroke-width: 0;\n  stroke: currentColor;\n  fill: currentColor;\n}\n</style><pre class='xr-text-repr-fallback'>&lt;xarray.Score (aggregation: 3)&gt;\narray([0.31856696, 0.01295766, 0.01657364])\nCoordinates:\n  * aggregation  (aggregation) object &#x27;center&#x27; &#x27;error_low&#x27; &#x27;error_high&#x27;\nAttributes:\n    class_module:  brainscore.metrics\n    class_name:    Score</pre><div class='xr-wrap' hidden><div class='xr-header'><div class='xr-obj-type'>xarray.Score</div><div class='xr-array-name'></div><ul class='xr-dim-list'><li><span class='xr-has-index'>aggregation</span>: 3</li></ul></div><ul class='xr-sections'><li class='xr-section-item'><div class='xr-array-wrap'><input id='section-36045bfa-59ea-4c63-a084-d365a38a4104' class='xr-array-in' type='checkbox' checked><label for='section-36045bfa-59ea-4c63-a084-d365a38a4104' title='Show/hide data repr'><svg class='icon xr-icon-database'><use xlink:href='#icon-database'></use></svg></label><div class='xr-array-preview xr-preview'><span>0.3186 0.01296 0.01657</span></div><div class='xr-array-data'><pre>array([0.31856696, 0.01295766, 0.01657364])</pre></div></div></li><li class='xr-section-item'><input id='section-124ee2e2-6f0d-4987-867f-4605de2a1959' class='xr-section-summary-in' type='checkbox'  checked><label for='section-124ee2e2-6f0d-4987-867f-4605de2a1959' class='xr-section-summary' >Coordinates: <span>(1)</span></label><div class='xr-section-inline-details'></div><div class='xr-section-details'><ul class='xr-var-list'><li class='xr-var-item'><div class='xr-var-name'><span class='xr-has-index'>aggregation</span></div><div class='xr-var-dims'>(aggregation)</div><div class='xr-var-dtype'>object</div><div class='xr-var-preview xr-preview'>&#x27;center&#x27; &#x27;error_low&#x27; &#x27;error_high&#x27;</div><input id='attrs-008b5442-e7fb-4401-9a16-1561e0012f0b' class='xr-var-attrs-in' type='checkbox' disabled><label for='attrs-008b5442-e7fb-4401-9a16-1561e0012f0b' title='Show/Hide attributes'><svg class='icon xr-icon-file-text2'><use xlink:href='#icon-file-text2'></use></svg></label><input id='data-ff742f28-9b7e-434f-bb40-242f0084e890' class='xr-var-data-in' type='checkbox'><label for='data-ff742f28-9b7e-434f-bb40-242f0084e890' title='Show/Hide data repr'><svg class='icon xr-icon-database'><use xlink:href='#icon-database'></use></svg></label><div class='xr-var-attrs'><dl class='xr-attrs'></dl></div><div class='xr-var-data'><pre>array([&#x27;center&#x27;, &#x27;error_low&#x27;, &#x27;error_high&#x27;], dtype=object)</pre></div></li></ul></div></li><li class='xr-section-item'><input id='section-dfd19312-ffdf-4ef9-b09d-b56e27144504' class='xr-section-summary-in' type='checkbox'  checked><label for='section-dfd19312-ffdf-4ef9-b09d-b56e27144504' class='xr-section-summary' >Attributes: <span>(2)</span></label><div class='xr-section-inline-details'></div><div class='xr-section-details'><dl class='xr-attrs'><dt><span>class_module :</span></dt><dd>brainscore.metrics</dd><dt><span>class_name :</span></dt><dd>Score</dd></dl></div></li></ul></div></div>"
     },
     "execution_count": 22,
     "metadata": {},
     "output_type": "execute_result"
    }
   ],
   "source": [
    "# Compare with the ceiling\n",
    "pereira.ceiling"
   ],
   "metadata": {
    "collapsed": false,
    "pycharm": {
     "name": "#%%\n"
    }
   }
  }
 ],
 "metadata": {
  "kernelspec": {
   "display_name": "Python 3 (ipykernel)",
   "language": "python",
   "name": "python3"
  },
  "language_info": {
   "codemirror_mode": {
    "name": "ipython",
    "version": 3
   },
   "file_extension": ".py",
   "mimetype": "text/x-python",
   "name": "python",
   "nbconvert_exporter": "python",
   "pygments_lexer": "ipython3",
   "version": "3.9.7"
  }
 },
 "nbformat": 4,
 "nbformat_minor": 5
}